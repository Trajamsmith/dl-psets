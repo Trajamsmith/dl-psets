{
 "cells": [
  {
   "cell_type": "markdown",
   "metadata": {},
   "source": [
    "### Travis James Smith\n",
    "February 8th, 2020"
   ]
  },
  {
   "cell_type": "markdown",
   "metadata": {},
   "source": [
    "HU Extension                  Assignment 01          E89 Deep Learning\t\t                  \t\n",
    "Handed out: 02/01/2020                            Due by 12 noon EST on Saturday, 02/08/2020\n",
    " \n",
    "You are welcome to implement TensorFlow problems in this problem set in any of supported languages. Python is recommended.\n"
   ]
  },
  {
   "cell_type": "code",
   "execution_count": 2,
   "metadata": {},
   "outputs": [],
   "source": [
    "import tensorflow as tf"
   ]
  },
  {
   "cell_type": "markdown",
   "metadata": {},
   "source": [
    "**Problem 1.** In class notes we made a claim that we can implement three essential logical operations: AND, OR and NOT as artificial neurons (perceptors). Write three Python functions which implement the above three operations. As input values you can use integers 1-s and 0-s or Boolean values, True-s and False-s. \n",
    "Demonstrate that all three functions return proper logical values (1-s and 0-s or True-s and False-s. \n",
    "Please declare all variable and constants using TensofFlow syntax and types. It is a bit of a drag. Just do it.\n"
   ]
  },
  {
   "cell_type": "code",
   "execution_count": 27,
   "metadata": {},
   "outputs": [
    {
     "name": "stdout",
     "output_type": "stream",
     "text": [
      "AND:  tf.Tensor([0. 0. 0. 1.], shape=(4,), dtype=float32)\n",
      "OR:  tf.Tensor([0. 1. 1. 1.], shape=(4,), dtype=float32)\n",
      "NOT:  tf.Tensor([1. 1. 0. 0.], shape=(4,), dtype=float32)\n"
     ]
    }
   ],
   "source": [
    "x_1 = tf.constant([0., 0., 1., 1.])\n",
    "x_2 = tf.constant([0., 1., 0., 1.])\n",
    "\n",
    "def AND(t1, t2):\n",
    "    inputs = -30 + 20 * t1 + 20 * t2\n",
    "    return tf.round(tf.math.sigmoid(inputs))\n",
    "\n",
    "def OR(t1, t2):\n",
    "    inputs = -10 + 20 * t1 + 20 * t2\n",
    "    return tf.round(tf.math.sigmoid(inputs))\n",
    "\n",
    "def NOT(t):\n",
    "    inputs = 10 + -20 * t\n",
    "    return tf.round(tf.math.sigmoid(inputs))\n",
    "\n",
    "print(\"AND: \", AND(x_1, x_2))\n",
    "print(\"OR: \", OR(x_1, x_2))\n",
    "print(\"NOT: \", NOT(x_1))"
   ]
  },
  {
   "cell_type": "markdown",
   "metadata": {},
   "source": [
    "**Problem 2.** Use functions developed in the previous problem to demonstrate that you can implement NOT (x XOR y) logical function. "
   ]
  },
  {
   "cell_type": "code",
   "execution_count": 28,
   "metadata": {},
   "outputs": [
    {
     "name": "stdout",
     "output_type": "stream",
     "text": [
      "XNOR:  tf.Tensor([1. 0. 0. 1.], shape=(4,), dtype=float32)\n"
     ]
    }
   ],
   "source": [
    "# We can model our NOT XOR (XNOR) function as nodes\n",
    "# in a neural network feeding forward, with two layers\n",
    "def XNOR(t1, t2):\n",
    "    node1 = AND(t1, t2)\n",
    "    node2 = AND(NOT(t1), NOT(t2))\n",
    "    node3 = OR(node1, node2)\n",
    "    return tf.round(tf.sigmoid(node3))\n",
    "\n",
    "print(\"XNOR: \", XNOR(x_1, x_2))"
   ]
  },
  {
   "cell_type": "markdown",
   "metadata": {},
   "source": [
    "**Problem 3.** Create a TensorFlow Sentence array with three short sentences. Their lengths (in words) should be 3,2, and 4. Transform that sentence array into a Rugged Tensor. Also, transform the rugged tensor into a NumPy array. Print all "
   ]
  },
  {
   "cell_type": "code",
   "execution_count": 77,
   "metadata": {},
   "outputs": [
    {
     "name": "stdout",
     "output_type": "stream",
     "text": [
      "TF Array:  tf.Tensor([b'A Brown Cow' b'A Brown' b'A Brown Cow Jumped'], shape=(3,), dtype=string)\n",
      "TF Ragged:  <tf.RaggedTensor [[b'A', b'Brown', b'Cow'], [b'A', b'Brown'], [b'A', b'Brown', b'Cow', b'Jumped']]>\n",
      "NP Array:  [array([b'A', b'Brown', b'Cow'], dtype=object), array([b'A', b'Brown'], dtype=object), array([b'A', b'Brown', b'Cow', b'Jumped'], dtype=object)]\n"
     ]
    }
   ],
   "source": [
    "sentence_1 = \"A Brown Cow\"\n",
    "sentence_2 = \"A Brown\"\n",
    "sentence_3 = \"A Brown Cow Jumped\"\n",
    "\n",
    "array = tf.constant([sentence_1, sentence_2, sentence_3])\n",
    "print(\"TF Array: \", array)\n",
    "\n",
    "ragged = tf.strings.split(array)\n",
    "print(\"TF Ragged: \", ragged)\n",
    "\n",
    "numpy = [arr.numpy() for arr in ragged]\n",
    "print(\"NP Arrays: \", numpy)"
   ]
  },
  {
   "cell_type": "markdown",
   "metadata": {},
   "source": [
    "**Problem 4.** Generate a variable as a sparse tensor of outside dimensions 4X4 of DType int8. Populate 5 of its elements with random numbers between 1 and 10 by assigning those values using TensorFlow function(s) to generate random numbers. (You are expected to find those functions in TensorFlow API documentation.) Print dense form of this tensor.\n",
    "\n"
   ]
  },
  {
   "cell_type": "code",
   "execution_count": 102,
   "metadata": {},
   "outputs": [
    {
     "data": {
      "text/plain": [
       "<tf.Tensor: shape=(4, 4), dtype=int8, numpy=\n",
       "array([[0, 7, 0, 0],\n",
       "       [5, 0, 0, 0],\n",
       "       [0, 7, 0, 0],\n",
       "       [0, 0, 3, 4]], dtype=int8)>"
      ]
     },
     "execution_count": 102,
     "metadata": {},
     "output_type": "execute_result"
    }
   ],
   "source": [
    "rand = tf.random.uniform(shape=[5,], minval=1, maxval=10, dtype=tf.int64)\n",
    "\n",
    "# Note that we have to typecast from int64 to int8 for the values, because it looks\n",
    "# like tf.random.uniform won't generate int8 values\n",
    "st = tf.SparseTensor(indices=[[0, 1], [1, 0], [2, 1], [3, 2], [3, 3]], \n",
    "                     values=tf.cast(rand, dtype=tf.int8), dense_shape=[4, 4])\n",
    "\n",
    "# Print the dense form of the sparse matrix\n",
    "tf.sparse.to_dense(st)"
   ]
  },
  {
   "cell_type": "markdown",
   "metadata": {},
   "source": [
    "Solution of this assignment has to be submitted as a single Jupyter notebook (ipynb file), as well as HTML and PDF images of that notebook. To generate those images, use the following command:\n",
    "  \n",
    "jupyter nbconvert notebook.ipynb –to html    \n",
    "jupyter nbconvert notebook.ipynb –to pdf\n",
    "\n",
    "\n",
    "Please provide meaningful description of actions in all cells of your notebook. Include those descriptions either as Python comments (#) or contents of the adjacent Mardown cells. \n"
   ]
  },
  {
   "cell_type": "code",
   "execution_count": null,
   "metadata": {},
   "outputs": [],
   "source": []
  },
  {
   "cell_type": "code",
   "execution_count": null,
   "metadata": {},
   "outputs": [],
   "source": []
  }
 ],
 "metadata": {
  "kernelspec": {
   "display_name": "Python 3",
   "language": "python",
   "name": "python3"
  },
  "language_info": {
   "codemirror_mode": {
    "name": "ipython",
    "version": 3
   },
   "file_extension": ".py",
   "mimetype": "text/x-python",
   "name": "python",
   "nbconvert_exporter": "python",
   "pygments_lexer": "ipython3",
   "version": "3.7.4"
  }
 },
 "nbformat": 4,
 "nbformat_minor": 2
}

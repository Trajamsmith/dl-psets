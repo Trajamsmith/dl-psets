{
 "cells": [
  {
   "cell_type": "markdown",
   "metadata": {},
   "source": [
    "### Travis James Smith"
   ]
  },
  {
   "cell_type": "code",
   "execution_count": 3,
   "metadata": {},
   "outputs": [],
   "source": [
    "import numpy as np\n",
    "import tensorflow as tf\n",
    "from tensorflow import keras\n",
    "\n",
    "assert tf.__version__ >= \"2.0\""
   ]
  },
  {
   "cell_type": "markdown",
   "metadata": {},
   "source": [
    "## Problem 1\n",
    "We're going to build an autoencoder using Keras. Borrowing and modifying code from lecture and the Geron notebook:"
   ]
  },
  {
   "cell_type": "code",
   "execution_count": 4,
   "metadata": {},
   "outputs": [],
   "source": [
    "(X_train_full, y_train_full), (X_test, y_test) = keras.datasets.mnist.load_data()\n",
    "X_train_full = X_train_full.astype(np.float32) / 255\n",
    "X_test = X_test.astype(np.float32) / 255\n",
    "\n",
    "X_train, X_valid = X_train_full[:-5000], X_train_full[-5000:]\n",
    "y_train, y_valid = y_train_full[:-5000], y_train_full[-5000:]"
   ]
  },
  {
   "cell_type": "markdown",
   "metadata": {},
   "source": [
    "We're going to define a model with three hidden layers. The \"coding\" layer here has size $16$:"
   ]
  },
  {
   "cell_type": "code",
   "execution_count": 5,
   "metadata": {},
   "outputs": [],
   "source": [
    "def rounded_accuracy(y_true, y_pred):\n",
    "    return keras.metrics.binary_accuracy(tf.round(y_true), tf.round(y_pred))\n",
    "\n",
    "def build_denoising_ae(coding_layer_size=16):\n",
    "    denoising_encoder = keras.models.Sequential(\n",
    "        [\n",
    "            keras.layers.Flatten(input_shape=[28, 28]),\n",
    "            keras.layers.GaussianNoise(0.2),\n",
    "            keras.layers.Dense(coding_layer_size, activation=\"selu\"),\n",
    "        ]\n",
    "    )\n",
    "    denoising_decoder = keras.models.Sequential(\n",
    "        [\n",
    "            keras.layers.Dense(100, activation=\"selu\", input_shape=[coding_layer_size]),\n",
    "            keras.layers.Dense(28 * 28, activation=\"sigmoid\"),\n",
    "            keras.layers.Reshape([28, 28]),\n",
    "        ]\n",
    "    )\n",
    "    denoising_ae = keras.models.Sequential([denoising_encoder, denoising_decoder])\n",
    "    denoising_ae.compile(\n",
    "        loss=\"binary_crossentropy\",\n",
    "        optimizer=keras.optimizers.SGD(lr=1.0),\n",
    "        metrics=[rounded_accuracy],\n",
    "    )\n",
    "    \n",
    "    return denoising_ae"
   ]
  },
  {
   "cell_type": "code",
   "execution_count": 6,
   "metadata": {},
   "outputs": [
    {
     "name": "stdout",
     "output_type": "stream",
     "text": [
      "Model: \"sequential_2\"\n",
      "_________________________________________________________________\n",
      "Layer (type)                 Output Shape              Param #   \n",
      "=================================================================\n",
      "sequential (Sequential)      (None, 16)                12560     \n",
      "_________________________________________________________________\n",
      "sequential_1 (Sequential)    (None, 28, 28)            80884     \n",
      "=================================================================\n",
      "Total params: 93,444\n",
      "Trainable params: 93,444\n",
      "Non-trainable params: 0\n",
      "_________________________________________________________________\n"
     ]
    }
   ],
   "source": [
    "denoising_16 = build_denoising_ae()\n",
    "denoising_16.summary()"
   ]
  },
  {
   "cell_type": "code",
   "execution_count": 7,
   "metadata": {},
   "outputs": [
    {
     "name": "stdout",
     "output_type": "stream",
     "text": [
      "Train on 55000 samples, validate on 5000 samples\n",
      "Epoch 1/10\n",
      "55000/55000 [==============================] - 4s 66us/sample - loss: 0.2143 - rounded_accuracy: 0.9029 - val_loss: 0.1691 - val_rounded_accuracy: 0.9272\n",
      "Epoch 2/10\n",
      "55000/55000 [==============================] - 3s 56us/sample - loss: 0.1582 - rounded_accuracy: 0.9334 - val_loss: 0.1457 - val_rounded_accuracy: 0.9407\n",
      "Epoch 3/10\n",
      "55000/55000 [==============================] - 3s 55us/sample - loss: 0.1446 - rounded_accuracy: 0.9407 - val_loss: 0.1387 - val_rounded_accuracy: 0.9443\n",
      "Epoch 4/10\n",
      "55000/55000 [==============================] - 3s 55us/sample - loss: 0.1404 - rounded_accuracy: 0.9427 - val_loss: 0.1360 - val_rounded_accuracy: 0.9455\n",
      "Epoch 5/10\n",
      "55000/55000 [==============================] - 3s 56us/sample - loss: 0.1382 - rounded_accuracy: 0.9437 - val_loss: 0.1339 - val_rounded_accuracy: 0.9467\n",
      "Epoch 6/10\n",
      "55000/55000 [==============================] - 3s 56us/sample - loss: 0.1366 - rounded_accuracy: 0.9445 - val_loss: 0.1322 - val_rounded_accuracy: 0.9475\n",
      "Epoch 7/10\n",
      "55000/55000 [==============================] - 3s 56us/sample - loss: 0.1352 - rounded_accuracy: 0.9453 - val_loss: 0.1307 - val_rounded_accuracy: 0.9484\n",
      "Epoch 8/10\n",
      "55000/55000 [==============================] - 3s 56us/sample - loss: 0.1339 - rounded_accuracy: 0.9460 - val_loss: 0.1296 - val_rounded_accuracy: 0.9489\n",
      "Epoch 9/10\n",
      "55000/55000 [==============================] - 3s 55us/sample - loss: 0.1327 - rounded_accuracy: 0.9467 - val_loss: 0.1282 - val_rounded_accuracy: 0.9497\n",
      "Epoch 10/10\n",
      "55000/55000 [==============================] - 3s 56us/sample - loss: 0.1316 - rounded_accuracy: 0.9472 - val_loss: 0.1271 - val_rounded_accuracy: 0.9506\n"
     ]
    }
   ],
   "source": [
    "history = denoising_16.fit(\n",
    "    x=X_train, y=X_train, epochs=10, validation_data=[X_valid, X_valid]\n",
    ")"
   ]
  },
  {
   "cell_type": "code",
   "execution_count": 8,
   "metadata": {},
   "outputs": [],
   "source": [
    "# To plot pretty figures\n",
    "%matplotlib inline\n",
    "import matplotlib as mpl\n",
    "import matplotlib.pyplot as plt\n",
    "mpl.rc('axes', labelsize=14)\n",
    "mpl.rc('xtick', labelsize=12)\n",
    "mpl.rc('ytick', labelsize=12)\n",
    "\n",
    "def plot_image(image):\n",
    "    plt.imshow(image, cmap=\"binary\")\n",
    "    plt.axis(\"off\")\n",
    "\n",
    "def show_reconstructions(model, images=X_valid, n_images=5):\n",
    "    reconstructions = model.predict(images[:n_images])\n",
    "    fig = plt.figure(figsize=(n_images * 1.5, 3))\n",
    "    for image_index in range(n_images):\n",
    "        plt.subplot(2, n_images, 1 + image_index)\n",
    "        plot_image(images[image_index])\n",
    "        plt.subplot(2, n_images, 1 + n_images + image_index)\n",
    "        plot_image(reconstructions[image_index])"
   ]
  },
  {
   "cell_type": "code",
   "execution_count": 9,
   "metadata": {},
   "outputs": [],
   "source": [
    "def get_digit_images(digits):\n",
    "    images = np.zeros((len(digits), 28, 28), dtype='float32')\n",
    "    print(images.shape)\n",
    "    for index, digit in enumerate(digits):\n",
    "        first_index = np.where(y_train == digit)[0][1]\n",
    "        image = X_train[first_index]\n",
    "        images[index] = image\n",
    "    return images"
   ]
  },
  {
   "cell_type": "code",
   "execution_count": 10,
   "metadata": {},
   "outputs": [
    {
     "name": "stdout",
     "output_type": "stream",
     "text": [
      "(5, 28, 28)\n"
     ]
    },
    {
     "data": {
      "image/png": "[encoded data removed]",
      "text/plain": [
       "<Figure size 540x216 with 10 Axes>"
      ]
     },
     "metadata": {
      "needs_background": "light"
     },
     "output_type": "display_data"
    }
   ],
   "source": [
    "test_images_dae = get_digit_images([3, 5, 4, 8, 2])\n",
    "\n",
    "show_reconstructions(denoising_16, test_images_dae)\n",
    "plt.show()"
   ]
  },
  {
   "cell_type": "markdown",
   "metadata": {},
   "source": [
    "Above we can see the predicted outputs from the original inputs."
   ]
  },
  {
   "cell_type": "code",
   "execution_count": 11,
   "metadata": {},
   "outputs": [
    {
     "data": {
      "image/png": "[encoded data removed]",
      "text/plain": [
       "<Figure size 540x216 with 10 Axes>"
      ]
     },
     "metadata": {
      "needs_background": "light"
     },
     "output_type": "display_data"
    }
   ],
   "source": [
    "noise = keras.layers.GaussianNoise(0.2)\n",
    "show_reconstructions(denoising_16, noise(test_images_dae, training=True))\n",
    "plt.show()"
   ]
  },
  {
   "cell_type": "markdown",
   "metadata": {},
   "source": [
    "And here we can see the outputs relative to the inputs with noise added. \n",
    "\n",
    "Now let's try doing all of the above but with a much larger coding layer:"
   ]
  },
  {
   "cell_type": "code",
   "execution_count": 12,
   "metadata": {},
   "outputs": [
    {
     "name": "stdout",
     "output_type": "stream",
     "text": [
      "Model: \"sequential_5\"\n",
      "_________________________________________________________________\n",
      "Layer (type)                 Output Shape              Param #   \n",
      "=================================================================\n",
      "sequential_3 (Sequential)    (None, 128)               100480    \n",
      "_________________________________________________________________\n",
      "sequential_4 (Sequential)    (None, 28, 28)            92084     \n",
      "=================================================================\n",
      "Total params: 192,564\n",
      "Trainable params: 192,564\n",
      "Non-trainable params: 0\n",
      "_________________________________________________________________\n"
     ]
    }
   ],
   "source": [
    "denoising_128 = build_denoising_ae(128)\n",
    "denoising_128.summary()"
   ]
  },
  {
   "cell_type": "code",
   "execution_count": 13,
   "metadata": {},
   "outputs": [
    {
     "name": "stdout",
     "output_type": "stream",
     "text": [
      "Train on 55000 samples, validate on 5000 samples\n",
      "Epoch 1/10\n",
      "55000/55000 [==============================] - 3s 61us/sample - loss: 0.1917 - rounded_accuracy: 0.9168 - val_loss: 0.1399 - val_rounded_accuracy: 0.9452\n",
      "Epoch 2/10\n",
      "55000/55000 [==============================] - 3s 57us/sample - loss: 0.1289 - rounded_accuracy: 0.9505 - val_loss: 0.1145 - val_rounded_accuracy: 0.9593\n",
      "Epoch 3/10\n",
      "55000/55000 [==============================] - 3s 57us/sample - loss: 0.1136 - rounded_accuracy: 0.9589 - val_loss: 0.1040 - val_rounded_accuracy: 0.9651\n",
      "Epoch 4/10\n",
      "55000/55000 [==============================] - 3s 57us/sample - loss: 0.1061 - rounded_accuracy: 0.9630 - val_loss: 0.0980 - val_rounded_accuracy: 0.9687\n",
      "Epoch 5/10\n",
      "55000/55000 [==============================] - 3s 57us/sample - loss: 0.1016 - rounded_accuracy: 0.9656 - val_loss: 0.0944 - val_rounded_accuracy: 0.9706\n",
      "Epoch 6/10\n",
      "55000/55000 [==============================] - 3s 57us/sample - loss: 0.0984 - rounded_accuracy: 0.9674 - val_loss: 0.0913 - val_rounded_accuracy: 0.9727\n",
      "Epoch 7/10\n",
      "55000/55000 [==============================] - 3s 57us/sample - loss: 0.0960 - rounded_accuracy: 0.9689 - val_loss: 0.0891 - val_rounded_accuracy: 0.9739\n",
      "Epoch 8/10\n",
      "55000/55000 [==============================] - 3s 57us/sample - loss: 0.0942 - rounded_accuracy: 0.9700 - val_loss: 0.0874 - val_rounded_accuracy: 0.9751\n",
      "Epoch 9/10\n",
      "55000/55000 [==============================] - 3s 57us/sample - loss: 0.0927 - rounded_accuracy: 0.9708 - val_loss: 0.0862 - val_rounded_accuracy: 0.9759\n",
      "Epoch 10/10\n",
      "55000/55000 [==============================] - 3s 56us/sample - loss: 0.0916 - rounded_accuracy: 0.9715 - val_loss: 0.0851 - val_rounded_accuracy: 0.9765\n"
     ]
    }
   ],
   "source": [
    "history = denoising_128.fit(\n",
    "    x=X_train, y=X_train, epochs=10, validation_data=[X_valid, X_valid]\n",
    ")"
   ]
  },
  {
   "cell_type": "code",
   "execution_count": 14,
   "metadata": {},
   "outputs": [
    {
     "data": {
      "image/png": "[encoded data removed]",
      "text/plain": [
       "<Figure size 540x216 with 10 Axes>"
      ]
     },
     "metadata": {
      "needs_background": "light"
     },
     "output_type": "display_data"
    }
   ],
   "source": [
    "show_reconstructions(denoising_128, test_images_dae)\n",
    "plt.show()"
   ]
  },
  {
   "cell_type": "code",
   "execution_count": 15,
   "metadata": {},
   "outputs": [
    {
     "data": {
      "image/png": "[encoded data removed]",
      "text/plain": [
       "<Figure size 540x216 with 10 Axes>"
      ]
     },
     "metadata": {
      "needs_background": "light"
     },
     "output_type": "display_data"
    }
   ],
   "source": [
    "noise = keras.layers.GaussianNoise(0.2)\n",
    "show_reconstructions(denoising_128, noise(test_images_dae, training=True))\n",
    "plt.show()"
   ]
  },
  {
   "cell_type": "markdown",
   "metadata": {},
   "source": [
    "These results are clearly better than the model with the coding layer of size $16$!"
   ]
  },
  {
   "cell_type": "markdown",
   "metadata": {},
   "source": [
    "## Problem 2\n",
    "Let's try implementing an autoencoder in PyTorch. We'll be drawing on the PyTorch example notebook here:"
   ]
  },
  {
   "cell_type": "code",
   "execution_count": 16,
   "metadata": {},
   "outputs": [],
   "source": [
    "import matplotlib.pyplot as plt\n",
    "import numpy as np\n",
    "\n",
    "import torch\n",
    "import torch.nn as nn\n",
    "import torch.optim as optim\n",
    "import torchvision"
   ]
  },
  {
   "cell_type": "code",
   "execution_count": 17,
   "metadata": {},
   "outputs": [],
   "source": [
    "seed = 42\n",
    "torch.manual_seed(seed)\n",
    "torch.backends.cudnn.benchmark = False\n",
    "torch.backends.cudnn.deterministic = True"
   ]
  },
  {
   "cell_type": "code",
   "execution_count": 18,
   "metadata": {},
   "outputs": [],
   "source": [
    "batch_size = 512\n",
    "epochs = 20\n",
    "learning_rate = 1e-3"
   ]
  },
  {
   "cell_type": "code",
   "execution_count": 19,
   "metadata": {},
   "outputs": [],
   "source": [
    "transform = torchvision.transforms.Compose([torchvision.transforms.ToTensor()])\n",
    "\n",
    "train_dataset = torchvision.datasets.MNIST(\n",
    "    root=\"~/torch_datasets\", train=True, transform=transform, download=True\n",
    ")\n",
    "\n",
    "train_loader = torch.utils.data.DataLoader(\n",
    "    train_dataset, batch_size=batch_size, shuffle=True\n",
    ")"
   ]
  },
  {
   "cell_type": "code",
   "execution_count": 20,
   "metadata": {},
   "outputs": [],
   "source": [
    "class AE(nn.Module):\n",
    "    def __init__(self, **kwargs):\n",
    "        super().__init__()\n",
    "        self.encoder_hidden_layer = nn.Linear(\n",
    "            in_features=kwargs[\"input_shape\"], out_features=128\n",
    "        )\n",
    "        self.encoder_output_layer = nn.Linear(\n",
    "            in_features=128, out_features=128\n",
    "        )\n",
    "        self.decoder_hidden_layer = nn.Linear(\n",
    "            in_features=128, out_features=128\n",
    "        )\n",
    "        self.decoder_output_layer = nn.Linear(\n",
    "            in_features=128, out_features=kwargs[\"input_shape\"]\n",
    "        )\n",
    "\n",
    "    def forward(self, features):\n",
    "        activation = self.encoder_hidden_layer(features)\n",
    "        activation = torch.relu(activation)\n",
    "        code = self.encoder_output_layer(activation)\n",
    "        code = torch.relu(code)\n",
    "        activation = self.decoder_hidden_layer(code)\n",
    "        activation = torch.relu(activation)\n",
    "        activation = self.decoder_output_layer(activation)\n",
    "        reconstructed = torch.relu(activation)\n",
    "        return reconstructed"
   ]
  },
  {
   "cell_type": "code",
   "execution_count": 21,
   "metadata": {},
   "outputs": [],
   "source": [
    "import torch.optim as optim\n",
    "\n",
    "#  use gpu if available\n",
    "# device = torch.device(\"cuda\" if torch.cuda.is_available() else \"cpu\")\n",
    "device = torch.device(\"cpu\")\n",
    "\n",
    "# create a model from `AE` autoencoder class\n",
    "# load it to the specified device, either gpu or cpu\n",
    "model = AE(input_shape=784).to(device)\n",
    "\n",
    "# create an optimizer object\n",
    "# Adam optimizer with learning rate 1e-3\n",
    "optimizer = optim.Adam(model.parameters(), lr=1e-3)\n",
    "\n",
    "# mean-squared error loss\n",
    "criterion = nn.MSELoss()"
   ]
  },
  {
   "cell_type": "markdown",
   "metadata": {},
   "source": [
    "Gaussian noise transformer borrowed from the PyTorch support forums:"
   ]
  },
  {
   "cell_type": "code",
   "execution_count": 22,
   "metadata": {},
   "outputs": [],
   "source": [
    "from torch.utils.data import Dataset, DataLoader\n",
    "\n",
    "class AddGaussianNoise(object):\n",
    "    def __init__(self, mean=0., std=0.1):\n",
    "        self.std = std\n",
    "        self.mean = mean\n",
    "        \n",
    "    def __call__(self, tensor):\n",
    "        return tensor + torch.randn(tensor.size()) * self.std + self.mean\n",
    "    \n",
    "    def __repr__(self):\n",
    "        return self.__class__.__name__ + '(mean={0}, std={1})'.format(self.mean, self.std)\n",
    "\n",
    "transform = torchvision.transforms.Compose([torchvision.transforms.ToTensor(), AddGaussianNoise(0., 0.1)])\n",
    "\n",
    "train_dataset = torchvision.datasets.MNIST(\n",
    "    root=\"~/torch_datasets\", train=True, transform=transform, download=True\n",
    ")\n",
    "\n",
    "test_dataset = torchvision.datasets.MNIST(\n",
    "    root=\"~/torch_datasets\", train=False, transform=transform, download=True\n",
    ")\n",
    "\n",
    "train_loader = torch.utils.data.DataLoader(\n",
    "    train_dataset, batch_size=128, shuffle=True, num_workers=0, pin_memory=True\n",
    ")\n",
    "\n",
    "test_loader = torch.utils.data.DataLoader(\n",
    "    test_dataset, batch_size=32, shuffle=False, num_workers=0\n",
    ")\n"
   ]
  },
  {
   "cell_type": "code",
   "execution_count": 23,
   "metadata": {},
   "outputs": [
    {
     "name": "stdout",
     "output_type": "stream",
     "text": [
      "epoch : 1/20, loss = 0.044202\n",
      "epoch : 2/20, loss = 0.028784\n",
      "epoch : 3/20, loss = 0.026387\n",
      "epoch : 4/20, loss = 0.025388\n",
      "epoch : 5/20, loss = 0.024415\n",
      "epoch : 6/20, loss = 0.023814\n",
      "epoch : 7/20, loss = 0.023401\n",
      "epoch : 8/20, loss = 0.023087\n",
      "epoch : 9/20, loss = 0.022859\n",
      "epoch : 10/20, loss = 0.022661\n",
      "epoch : 11/20, loss = 0.022502\n",
      "epoch : 12/20, loss = 0.022344\n",
      "epoch : 13/20, loss = 0.022220\n",
      "epoch : 14/20, loss = 0.022098\n",
      "epoch : 15/20, loss = 0.021983\n",
      "epoch : 16/20, loss = 0.021884\n",
      "epoch : 17/20, loss = 0.021806\n",
      "epoch : 18/20, loss = 0.021720\n",
      "epoch : 19/20, loss = 0.021657\n",
      "epoch : 20/20, loss = 0.021599\n"
     ]
    }
   ],
   "source": [
    "for epoch in range(epochs):\n",
    "    loss = 0\n",
    "    for batch_features, _ in train_loader:\n",
    "        # reshape mini-batch data to [N, 784] matrix\n",
    "        # load it to the active device\n",
    "        batch_features = batch_features.view(-1, 784).to(device)\n",
    "        \n",
    "        # reset the gradients back to zero\n",
    "        # PyTorch accumulates gradients on subsequent backward passes\n",
    "        optimizer.zero_grad()\n",
    "        \n",
    "        # compute reconstructions\n",
    "        outputs = model(batch_features)\n",
    "        \n",
    "        # compute training reconstruction loss\n",
    "        train_loss = criterion(outputs, batch_features)\n",
    "        \n",
    "        # compute accumulated gradients\n",
    "        train_loss.backward()\n",
    "        \n",
    "        # perform parameter update based on current gradients\n",
    "        optimizer.step()\n",
    "        \n",
    "        # add the mini-batch training loss to epoch loss\n",
    "        loss += train_loss.item()\n",
    "    \n",
    "    # compute the epoch training loss\n",
    "    loss = loss / len(train_loader)\n",
    "    \n",
    "    # display the epoch training loss\n",
    "    print(\"epoch : {}/{}, loss = {:.6f}\".format(epoch + 1, epochs, loss))"
   ]
  },
  {
   "cell_type": "code",
   "execution_count": 24,
   "metadata": {},
   "outputs": [],
   "source": [
    "test_dataset = torchvision.datasets.MNIST(\n",
    "    root=\"~/torch_datasets\", train=False, transform=transform, download=True\n",
    ")\n",
    "\n",
    "test_loader = torch.utils.data.DataLoader(\n",
    "    test_dataset, batch_size=10, shuffle=False\n",
    ")\n",
    "\n",
    "test_examples = None\n",
    "\n",
    "with torch.no_grad():\n",
    "    for batch_features in test_loader:\n",
    "        batch_features = batch_features[0]\n",
    "        test_examples = batch_features.view(-1, 784)\n",
    "        reconstruction = model(test_examples)\n",
    "        break"
   ]
  },
  {
   "cell_type": "code",
   "execution_count": 25,
   "metadata": {},
   "outputs": [
    {
     "data": {
      "image/png": "[encoded data removed]",
      "text/plain": [
       "<Figure size 1440x288 with 20 Axes>"
      ]
     },
     "metadata": {
      "needs_background": "light"
     },
     "output_type": "display_data"
    }
   ],
   "source": [
    "import matplotlib.pyplot as plt\n",
    "\n",
    "with torch.no_grad():\n",
    "    number = 10\n",
    "    plt.figure(figsize=(20, 4))\n",
    "    for index in range(number):\n",
    "        # display original\n",
    "        ax = plt.subplot(2, number, index + 1)\n",
    "        plt.imshow(test_examples[index].numpy().reshape(28, 28))\n",
    "        plt.gray()\n",
    "        ax.get_xaxis().set_visible(False)\n",
    "        ax.get_yaxis().set_visible(False)\n",
    "\n",
    "        # display reconstruction\n",
    "        ax = plt.subplot(2, number, index + 1 + number)\n",
    "        plt.imshow(reconstruction[index].numpy().reshape(28, 28))\n",
    "        plt.gray()\n",
    "        ax.get_xaxis().set_visible(False)\n",
    "        ax.get_yaxis().set_visible(False)\n",
    "    plt.show()"
   ]
  },
  {
   "cell_type": "markdown",
   "metadata": {},
   "source": [
    "This looks pretty good. Not much to complain about here. We could increase the amount of noise introduced, but training unfortunately takes a while (the library doesn't want to use my GPU). I don't think the results would be very different though, proportionally."
   ]
  },
  {
   "cell_type": "markdown",
   "metadata": {},
   "source": [
    "## Problem 3\n",
    "Now we're being asked to build a variational autoencoder and generate samples from it:"
   ]
  },
  {
   "cell_type": "code",
   "execution_count": 26,
   "metadata": {},
   "outputs": [],
   "source": [
    "K = keras.backend\n",
    "kl_divergence = keras.losses.kullback_leibler_divergence\n",
    "\n",
    "class KLDivergenceRegularizer(keras.regularizers.Regularizer):\n",
    "    def __init__(self, weight, target=0.1):\n",
    "        self.weight = weight\n",
    "        self.target = target\n",
    "    def __call__(self, inputs):\n",
    "        mean_activities = K.mean(inputs, axis=0)\n",
    "        return self.weight * (\n",
    "            kl_divergence(self.target, mean_activities) +\n",
    "            kl_divergence(1. - self.target, 1. - mean_activities))"
   ]
  },
  {
   "cell_type": "code",
   "execution_count": 27,
   "metadata": {},
   "outputs": [],
   "source": [
    "class Sampling(keras.layers.Layer):\n",
    "    def call(self, inputs):\n",
    "        mean, log_var = inputs\n",
    "        return K.random_normal(tf.shape(log_var)) * K.exp(log_var / 2) + mean "
   ]
  },
  {
   "cell_type": "code",
   "execution_count": 28,
   "metadata": {},
   "outputs": [],
   "source": [
    "codings_size = 10\n",
    "\n",
    "inputs = keras.layers.Input(shape=[28, 28])\n",
    "z = keras.layers.Flatten()(inputs)\n",
    "z = keras.layers.Dense(150, activation=\"selu\")(z)\n",
    "z = keras.layers.Dense(100, activation=\"selu\")(z)\n",
    "codings_mean = keras.layers.Dense(codings_size)(z)\n",
    "codings_log_var = keras.layers.Dense(codings_size)(z)\n",
    "codings = Sampling()([codings_mean, codings_log_var])\n",
    "variational_encoder = keras.models.Model(\n",
    "    inputs=[inputs], outputs=[codings_mean, codings_log_var, codings])\n",
    "\n",
    "decoder_inputs = keras.layers.Input(shape=[codings_size])\n",
    "x = keras.layers.Dense(100, activation=\"selu\")(decoder_inputs)\n",
    "x = keras.layers.Dense(150, activation=\"selu\")(x)\n",
    "x = keras.layers.Dense(28 * 28, activation=\"sigmoid\")(x)\n",
    "outputs = keras.layers.Reshape([28, 28])(x)\n",
    "variational_decoder = keras.models.Model(inputs=[decoder_inputs], outputs=[outputs])\n",
    "\n",
    "_, _, codings = variational_encoder(inputs)\n",
    "reconstructions = variational_decoder(codings)\n",
    "variational_ae = keras.models.Model(inputs=[inputs], outputs=[reconstructions])\n",
    "\n",
    "latent_loss = -0.5 * K.sum(\n",
    "    1 + codings_log_var - K.exp(codings_log_var) - K.square(codings_mean),\n",
    "    axis=-1)\n",
    "variational_ae.add_loss(K.mean(latent_loss) / 784.)\n",
    "variational_ae.compile(loss=\"binary_crossentropy\", optimizer=\"rmsprop\", metrics=[rounded_accuracy])"
   ]
  },
  {
   "cell_type": "code",
   "execution_count": 29,
   "metadata": {},
   "outputs": [
    {
     "name": "stdout",
     "output_type": "stream",
     "text": [
      "Train on 55000 samples, validate on 5000 samples\n",
      "Epoch 1/25\n",
      "55000/55000 [==============================] - 2s 38us/sample - loss: 0.2209 - rounded_accuracy: 0.9060 - val_loss: 0.1852 - val_rounded_accuracy: 0.9283\n",
      "Epoch 2/25\n",
      "55000/55000 [==============================] - 1s 26us/sample - loss: 0.1764 - rounded_accuracy: 0.9325 - val_loss: 0.1705 - val_rounded_accuracy: 0.9361\n",
      "Epoch 3/25\n",
      "55000/55000 [==============================] - 1s 27us/sample - loss: 0.1656 - rounded_accuracy: 0.9390 - val_loss: 0.1634 - val_rounded_accuracy: 0.9406\n",
      "Epoch 4/25\n",
      "55000/55000 [==============================] - 1s 26us/sample - loss: 0.1602 - rounded_accuracy: 0.9424 - val_loss: 0.1560 - val_rounded_accuracy: 0.9453\n",
      "Epoch 5/25\n",
      "55000/55000 [==============================] - 1s 27us/sample - loss: 0.1569 - rounded_accuracy: 0.9447 - val_loss: 0.1565 - val_rounded_accuracy: 0.9454\n",
      "Epoch 6/25\n",
      "55000/55000 [==============================] - 1s 27us/sample - loss: 0.1546 - rounded_accuracy: 0.9461 - val_loss: 0.1546 - val_rounded_accuracy: 0.9463\n",
      "Epoch 7/25\n",
      "55000/55000 [==============================] - 1s 27us/sample - loss: 0.1528 - rounded_accuracy: 0.9473 - val_loss: 0.1518 - val_rounded_accuracy: 0.9480\n",
      "Epoch 8/25\n",
      "55000/55000 [==============================] - 1s 27us/sample - loss: 0.1514 - rounded_accuracy: 0.9482 - val_loss: 0.1523 - val_rounded_accuracy: 0.9485\n",
      "Epoch 9/25\n",
      "55000/55000 [==============================] - 1s 27us/sample - loss: 0.1501 - rounded_accuracy: 0.9490 - val_loss: 0.1513 - val_rounded_accuracy: 0.9484\n",
      "Epoch 10/25\n",
      "55000/55000 [==============================] - 1s 27us/sample - loss: 0.1491 - rounded_accuracy: 0.9497 - val_loss: 0.1495 - val_rounded_accuracy: 0.9496\n",
      "Epoch 11/25\n",
      "55000/55000 [==============================] - 1s 27us/sample - loss: 0.1481 - rounded_accuracy: 0.9503 - val_loss: 0.1493 - val_rounded_accuracy: 0.9500\n",
      "Epoch 12/25\n",
      "55000/55000 [==============================] - 1s 27us/sample - loss: 0.1473 - rounded_accuracy: 0.9509 - val_loss: 0.1467 - val_rounded_accuracy: 0.9514\n",
      "Epoch 13/25\n",
      "55000/55000 [==============================] - 1s 27us/sample - loss: 0.1466 - rounded_accuracy: 0.9513 - val_loss: 0.1501 - val_rounded_accuracy: 0.9495\n",
      "Epoch 14/25\n",
      "55000/55000 [==============================] - 1s 27us/sample - loss: 0.1459 - rounded_accuracy: 0.9517 - val_loss: 0.1467 - val_rounded_accuracy: 0.9517\n",
      "Epoch 15/25\n",
      "55000/55000 [==============================] - 1s 27us/sample - loss: 0.1453 - rounded_accuracy: 0.9521 - val_loss: 0.1456 - val_rounded_accuracy: 0.9520\n",
      "Epoch 16/25\n",
      "55000/55000 [==============================] - 1s 27us/sample - loss: 0.1447 - rounded_accuracy: 0.9525 - val_loss: 0.1457 - val_rounded_accuracy: 0.9522\n",
      "Epoch 17/25\n",
      "55000/55000 [==============================] - 1s 27us/sample - loss: 0.1442 - rounded_accuracy: 0.9528 - val_loss: 0.1445 - val_rounded_accuracy: 0.9530\n",
      "Epoch 18/25\n",
      "55000/55000 [==============================] - 1s 27us/sample - loss: 0.1437 - rounded_accuracy: 0.9532 - val_loss: 0.1458 - val_rounded_accuracy: 0.9521\n",
      "Epoch 19/25\n",
      "55000/55000 [==============================] - 1s 27us/sample - loss: 0.1433 - rounded_accuracy: 0.9534 - val_loss: 0.1449 - val_rounded_accuracy: 0.9525\n",
      "Epoch 20/25\n",
      "55000/55000 [==============================] - 1s 27us/sample - loss: 0.1429 - rounded_accuracy: 0.9537 - val_loss: 0.1435 - val_rounded_accuracy: 0.9536\n",
      "Epoch 21/25\n",
      "55000/55000 [==============================] - 1s 27us/sample - loss: 0.1426 - rounded_accuracy: 0.9539 - val_loss: 0.1427 - val_rounded_accuracy: 0.9541\n",
      "Epoch 22/25\n",
      "55000/55000 [==============================] - 1s 27us/sample - loss: 0.1422 - rounded_accuracy: 0.9541 - val_loss: 0.1424 - val_rounded_accuracy: 0.9543\n",
      "Epoch 23/25\n",
      "55000/55000 [==============================] - 1s 27us/sample - loss: 0.1419 - rounded_accuracy: 0.9544 - val_loss: 0.1430 - val_rounded_accuracy: 0.9542\n",
      "Epoch 24/25\n",
      "55000/55000 [==============================] - 1s 27us/sample - loss: 0.1415 - rounded_accuracy: 0.9546 - val_loss: 0.1423 - val_rounded_accuracy: 0.9544\n",
      "Epoch 25/25\n",
      "55000/55000 [==============================] - 1s 27us/sample - loss: 0.1413 - rounded_accuracy: 0.9547 - val_loss: 0.1422 - val_rounded_accuracy: 0.9546\n"
     ]
    }
   ],
   "source": [
    "history = variational_ae.fit(X_train, X_train, epochs=25, batch_size=128,\n",
    "                             validation_data=[X_valid, X_valid])"
   ]
  },
  {
   "cell_type": "code",
   "execution_count": 30,
   "metadata": {},
   "outputs": [],
   "source": [
    "def plot_multiple_images(images):\n",
    "    plt.figure(figsize=(5, 5))\n",
    "    for index, image in enumerate(images):\n",
    "        plt.subplot(1, 5, index + 1)\n",
    "        plt.imshow(image, cmap=\"binary\")\n",
    "        plt.axis(\"off\")"
   ]
  },
  {
   "cell_type": "code",
   "execution_count": 31,
   "metadata": {},
   "outputs": [
    {
     "name": "stdout",
     "output_type": "stream",
     "text": [
      "(2, 28, 28)\n"
     ]
    },
    {
     "data": {
      "text/plain": [
       "[<tf.Tensor: shape=(2, 10), dtype=float32, numpy=\n",
       " array([[-0.52421385,  1.0082523 ,  0.2272144 ,  1.9122106 ,  0.3681989 ,\n",
       "          0.77197343,  0.47688577, -0.13799557, -0.24650046, -1.1945227 ],\n",
       "        [ 1.443497  , -0.52126706, -0.15408823, -0.7365739 , -1.1665245 ,\n",
       "          0.90097815, -2.1041713 , -1.0197786 , -0.11397567, -0.6893282 ]],\n",
       "       dtype=float32)>,\n",
       " <tf.Tensor: shape=(2, 10), dtype=float32, numpy=\n",
       " array([[-4.0515847, -3.9749691, -3.276582 , -3.6150293, -2.5417054,\n",
       "         -3.8420749, -3.7949395, -3.7007751, -4.9582453, -2.98279  ],\n",
       "        [-3.817886 , -3.5286775, -2.6233873, -3.3046684, -2.6068554,\n",
       "         -3.2417488, -3.0741768, -3.6385536, -4.4246216, -2.5501122]],\n",
       "       dtype=float32)>,\n",
       " <tf.Tensor: shape=(2, 10), dtype=float32, numpy=\n",
       " array([[-0.39221752,  0.9117677 ,  0.04616685,  1.6280484 ,  0.55269945,\n",
       "          0.85111004,  0.46671253, -0.35247   , -0.2689966 , -1.0564462 ],\n",
       "        [ 1.1682177 , -0.10834125,  0.25183487, -0.5801099 , -1.097146  ,\n",
       "          0.8133206 , -1.9848006 , -0.915729  ,  0.05034509, -0.945691  ]],\n",
       "       dtype=float32)>]"
      ]
     },
     "execution_count": 31,
     "metadata": {},
     "output_type": "execute_result"
    }
   ],
   "source": [
    "test_images_vae = get_digit_images([3, 4])\n",
    "test_encodings = variational_encoder(test_images_vae)\n",
    "test_encodings"
   ]
  },
  {
   "cell_type": "code",
   "execution_count": 32,
   "metadata": {},
   "outputs": [
    {
     "data": {
      "image/png": "[encoded data removed]",
      "text/plain": [
       "<Figure size 360x360 with 2 Axes>"
      ]
     },
     "metadata": {
      "needs_background": "light"
     },
     "output_type": "display_data"
    }
   ],
   "source": [
    "images = variational_decoder(test_encodings).numpy()\n",
    "plot_multiple_images(images)"
   ]
  },
  {
   "cell_type": "code",
   "execution_count": 33,
   "metadata": {},
   "outputs": [
    {
     "name": "stdout",
     "output_type": "stream",
     "text": [
      "(3, 2, 10)\n"
     ]
    }
   ],
   "source": [
    "print(np.array(test_encodings).shape)"
   ]
  },
  {
   "cell_type": "markdown",
   "metadata": {},
   "source": [
    "Let's try and interpolate between these:"
   ]
  },
  {
   "cell_type": "code",
   "execution_count": 34,
   "metadata": {},
   "outputs": [
    {
     "data": {
      "image/png": "[encoded data removed]",
      "text/plain": [
       "<Figure size 360x360 with 5 Axes>"
      ]
     },
     "metadata": {
      "needs_background": "light"
     },
     "output_type": "display_data"
    }
   ],
   "source": [
    "codings_grid = tf.reshape(test_encodings, [1, 1, 6, codings_size])\n",
    "larger_grid = tf.image.resize(codings_grid, size=[1, 5])\n",
    "interpolated_codings = tf.reshape(larger_grid, [-1, codings_size])\n",
    "images = variational_decoder(interpolated_codings).numpy()\n",
    "\n",
    "plot_multiple_images(images)"
   ]
  },
  {
   "cell_type": "markdown",
   "metadata": {},
   "source": [
    "I'm completely at a loss as to why this interpolation isn't working, and why it _was_ working in the Geron notebook with nearly the same code. I'm out of bandwidth to work on it, but maybe I'll circle back around when the class is over.\n",
    "\n",
    "Now let's try to run these images generated by our VAE through our denoising autoencoder from the first problem. In theory, the denoising autoencoder could reduce the \"noise\" (blurriness) of these probabilistically generated digits."
   ]
  },
  {
   "cell_type": "code",
   "execution_count": 35,
   "metadata": {},
   "outputs": [
    {
     "data": {
      "image/png": "[encoded data removed]",
      "text/plain": [
       "<Figure size 540x216 with 10 Axes>"
      ]
     },
     "metadata": {
      "needs_background": "light"
     },
     "output_type": "display_data"
    }
   ],
   "source": [
    "show_reconstructions(denoising_128, images)\n",
    "plt.show()"
   ]
  },
  {
   "cell_type": "markdown",
   "metadata": {},
   "source": [
    "Impressively, our denoising autoencoder _does_ actually remove some of the blurriness! It's subtle, but you can see that the boundaries are more sharply defined in the reconstructed images. This is a pretty cool result."
   ]
  },
  {
   "cell_type": "code",
   "execution_count": null,
   "metadata": {},
   "outputs": [],
   "source": []
  }
 ],
 "metadata": {
  "kernelspec": {
   "display_name": "Python 3",
   "language": "python",
   "name": "python3"
  },
  "language_info": {
   "codemirror_mode": {
    "name": "ipython",
    "version": 3
   },
   "file_extension": ".py",
   "mimetype": "text/x-python",
   "name": "python",
   "nbconvert_exporter": "python",
   "pygments_lexer": "ipython3",
   "version": "3.7.4"
  }
 },
 "nbformat": 4,
 "nbformat_minor": 4
}

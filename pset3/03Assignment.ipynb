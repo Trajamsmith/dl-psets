{
 "cells": [
  {
   "cell_type": "markdown",
   "metadata": {},
   "source": [
    "### Travis James Smith\n",
    "\n",
    "For Problem 1, I'll submit the original notebook with the modified imports."
   ]
  },
  {
   "cell_type": "markdown",
   "metadata": {},
   "source": [
    "## Problem 2"
   ]
  },
  {
   "cell_type": "code",
   "execution_count": 203,
   "metadata": {},
   "outputs": [
    {
     "name": "stdout",
     "output_type": "stream",
     "text": [
      "The nb_black extension is already loaded. To reload it, use:\n",
      "  %reload_ext nb_black\n"
     ]
    },
    {
     "data": {
      "application/javascript": [
       "\n",
       "            setTimeout(function() {\n",
       "                var nbb_cell_id = 203;\n",
       "                var nbb_unformatted_code = \"%load_ext nb_black\\n\\nimport tensorflow as tf\\nimport tensorflow.keras as keras\\nimport numpy as np\";\n",
       "                var nbb_formatted_code = \"%load_ext nb_black\\n\\nimport tensorflow as tf\\nimport tensorflow.keras as keras\\nimport numpy as np\";\n",
       "                var nbb_cells = Jupyter.notebook.get_cells();\n",
       "                for (var i = 0; i < nbb_cells.length; ++i) {\n",
       "                    if (nbb_cells[i].input_prompt_number == nbb_cell_id) {\n",
       "                        if (nbb_cells[i].get_text() == nbb_unformatted_code) {\n",
       "                             nbb_cells[i].set_text(nbb_formatted_code);\n",
       "                        }\n",
       "                        break;\n",
       "                    }\n",
       "                }\n",
       "            }, 500);\n",
       "            "
      ],
      "text/plain": [
       "<IPython.core.display.Javascript object>"
      ]
     },
     "metadata": {},
     "output_type": "display_data"
    }
   ],
   "source": [
    "%load_ext nb_black\n",
    "\n",
    "import tensorflow as tf\n",
    "import tensorflow.keras as keras\n",
    "import numpy as np"
   ]
  },
  {
   "cell_type": "code",
   "execution_count": 204,
   "metadata": {},
   "outputs": [
    {
     "data": {
      "application/javascript": [
       "\n",
       "            setTimeout(function() {\n",
       "                var nbb_cell_id = 204;\n",
       "                var nbb_unformatted_code = \"from keras.datasets import reuters\\nfrom keras.utils.np_utils import to_categorical\\n\\n(train_data, train_labels), (test_data, test_labels) = reuters.load_data(\\n    num_words=10000\\n)\\n\\n\\ndef vectorize_sequences(sequences, dimension=10000):\\n    results = np.zeros((len(sequences), dimension))\\n    for i, sequence in enumerate(sequences):\\n        results[i, sequence] = 1.0\\n    return results\\n\\n\\nx_train = vectorize_sequences(train_data)\\nx_test = vectorize_sequences(test_data)\\n\\none_hot_train_labels = to_categorical(train_labels)\\none_hot_test_labels = to_categorical(test_labels)\";\n",
       "                var nbb_formatted_code = \"from keras.datasets import reuters\\nfrom keras.utils.np_utils import to_categorical\\n\\n(train_data, train_labels), (test_data, test_labels) = reuters.load_data(\\n    num_words=10000\\n)\\n\\n\\ndef vectorize_sequences(sequences, dimension=10000):\\n    results = np.zeros((len(sequences), dimension))\\n    for i, sequence in enumerate(sequences):\\n        results[i, sequence] = 1.0\\n    return results\\n\\n\\nx_train = vectorize_sequences(train_data)\\nx_test = vectorize_sequences(test_data)\\n\\none_hot_train_labels = to_categorical(train_labels)\\none_hot_test_labels = to_categorical(test_labels)\";\n",
       "                var nbb_cells = Jupyter.notebook.get_cells();\n",
       "                for (var i = 0; i < nbb_cells.length; ++i) {\n",
       "                    if (nbb_cells[i].input_prompt_number == nbb_cell_id) {\n",
       "                        if (nbb_cells[i].get_text() == nbb_unformatted_code) {\n",
       "                             nbb_cells[i].set_text(nbb_formatted_code);\n",
       "                        }\n",
       "                        break;\n",
       "                    }\n",
       "                }\n",
       "            }, 500);\n",
       "            "
      ],
      "text/plain": [
       "<IPython.core.display.Javascript object>"
      ]
     },
     "metadata": {},
     "output_type": "display_data"
    }
   ],
   "source": [
    "from keras.datasets import reuters\n",
    "from keras.utils.np_utils import to_categorical\n",
    "\n",
    "(train_data, train_labels), (test_data, test_labels) = reuters.load_data(\n",
    "    num_words=10000\n",
    ")\n",
    "\n",
    "\n",
    "def vectorize_sequences(sequences, dimension=10000):\n",
    "    results = np.zeros((len(sequences), dimension))\n",
    "    for i, sequence in enumerate(sequences):\n",
    "        results[i, sequence] = 1.0\n",
    "    return results\n",
    "\n",
    "\n",
    "x_train = vectorize_sequences(train_data)\n",
    "x_test = vectorize_sequences(test_data)\n",
    "\n",
    "one_hot_train_labels = to_categorical(train_labels)\n",
    "one_hot_test_labels = to_categorical(test_labels)"
   ]
  },
  {
   "cell_type": "code",
   "execution_count": 205,
   "metadata": {},
   "outputs": [
    {
     "name": "stdout",
     "output_type": "stream",
     "text": [
      "(7982, 10000)\n",
      "(7982, 46)\n"
     ]
    },
    {
     "data": {
      "application/javascript": [
       "\n",
       "            setTimeout(function() {\n",
       "                var nbb_cell_id = 205;\n",
       "                var nbb_unformatted_code = \"x_val = x_train[:1000]\\npartial_x_train = x_train[1000:]\\nprint(partial_x_train.shape)\\n\\ny_val = one_hot_train_labels[:1000]\\npartial_y_train = one_hot_train_labels[1000:]\\nprint(partial_y_train.shape)\";\n",
       "                var nbb_formatted_code = \"x_val = x_train[:1000]\\npartial_x_train = x_train[1000:]\\nprint(partial_x_train.shape)\\n\\ny_val = one_hot_train_labels[:1000]\\npartial_y_train = one_hot_train_labels[1000:]\\nprint(partial_y_train.shape)\";\n",
       "                var nbb_cells = Jupyter.notebook.get_cells();\n",
       "                for (var i = 0; i < nbb_cells.length; ++i) {\n",
       "                    if (nbb_cells[i].input_prompt_number == nbb_cell_id) {\n",
       "                        if (nbb_cells[i].get_text() == nbb_unformatted_code) {\n",
       "                             nbb_cells[i].set_text(nbb_formatted_code);\n",
       "                        }\n",
       "                        break;\n",
       "                    }\n",
       "                }\n",
       "            }, 500);\n",
       "            "
      ],
      "text/plain": [
       "<IPython.core.display.Javascript object>"
      ]
     },
     "metadata": {},
     "output_type": "display_data"
    }
   ],
   "source": [
    "x_val = x_train[:1000]\n",
    "partial_x_train = x_train[1000:]\n",
    "print(partial_x_train.shape)\n",
    "\n",
    "y_val = one_hot_train_labels[:1000]\n",
    "partial_y_train = one_hot_train_labels[1000:]\n",
    "print(partial_y_train.shape)"
   ]
  },
  {
   "cell_type": "code",
   "execution_count": 206,
   "metadata": {},
   "outputs": [
    {
     "data": {
      "application/javascript": [
       "\n",
       "            setTimeout(function() {\n",
       "                var nbb_cell_id = 206;\n",
       "                var nbb_unformatted_code = \"from keras import models, layers\\n\\nmodel = models.Sequential()\\nmodel.add(layers.Dense(64, activation=\\\"relu\\\", input_shape=(10000,)))\\nmodel.add(layers.Dense(64, activation=\\\"relu\\\"))\\nmodel.add(layers.Dense(46, activation=\\\"softmax\\\"))\";\n",
       "                var nbb_formatted_code = \"from keras import models, layers\\n\\nmodel = models.Sequential()\\nmodel.add(layers.Dense(64, activation=\\\"relu\\\", input_shape=(10000,)))\\nmodel.add(layers.Dense(64, activation=\\\"relu\\\"))\\nmodel.add(layers.Dense(46, activation=\\\"softmax\\\"))\";\n",
       "                var nbb_cells = Jupyter.notebook.get_cells();\n",
       "                for (var i = 0; i < nbb_cells.length; ++i) {\n",
       "                    if (nbb_cells[i].input_prompt_number == nbb_cell_id) {\n",
       "                        if (nbb_cells[i].get_text() == nbb_unformatted_code) {\n",
       "                             nbb_cells[i].set_text(nbb_formatted_code);\n",
       "                        }\n",
       "                        break;\n",
       "                    }\n",
       "                }\n",
       "            }, 500);\n",
       "            "
      ],
      "text/plain": [
       "<IPython.core.display.Javascript object>"
      ]
     },
     "metadata": {},
     "output_type": "display_data"
    }
   ],
   "source": [
    "from keras import models, layers\n",
    "\n",
    "model = models.Sequential()\n",
    "model.add(layers.Dense(64, activation=\"relu\", input_shape=(10000,)))\n",
    "model.add(layers.Dense(64, activation=\"relu\"))\n",
    "model.add(layers.Dense(46, activation=\"softmax\"))"
   ]
  },
  {
   "cell_type": "code",
   "execution_count": 207,
   "metadata": {},
   "outputs": [
    {
     "data": {
      "application/javascript": [
       "\n",
       "            setTimeout(function() {\n",
       "                var nbb_cell_id = 207;\n",
       "                var nbb_unformatted_code = \"model.compile(\\n    optimizer=\\\"rmsprop\\\", loss=\\\"categorical_crossentropy\\\", metrics=[\\\"accuracy\\\"]\\n)\";\n",
       "                var nbb_formatted_code = \"model.compile(\\n    optimizer=\\\"rmsprop\\\", loss=\\\"categorical_crossentropy\\\", metrics=[\\\"accuracy\\\"]\\n)\";\n",
       "                var nbb_cells = Jupyter.notebook.get_cells();\n",
       "                for (var i = 0; i < nbb_cells.length; ++i) {\n",
       "                    if (nbb_cells[i].input_prompt_number == nbb_cell_id) {\n",
       "                        if (nbb_cells[i].get_text() == nbb_unformatted_code) {\n",
       "                             nbb_cells[i].set_text(nbb_formatted_code);\n",
       "                        }\n",
       "                        break;\n",
       "                    }\n",
       "                }\n",
       "            }, 500);\n",
       "            "
      ],
      "text/plain": [
       "<IPython.core.display.Javascript object>"
      ]
     },
     "metadata": {},
     "output_type": "display_data"
    }
   ],
   "source": [
    "model.compile(\n",
    "    optimizer=\"rmsprop\", loss=\"categorical_crossentropy\", metrics=[\"accuracy\"]\n",
    ")"
   ]
  },
  {
   "cell_type": "code",
   "execution_count": 208,
   "metadata": {},
   "outputs": [
    {
     "name": "stdout",
     "output_type": "stream",
     "text": [
      "Train on 7982 samples, validate on 1000 samples\n",
      "Epoch 1/20\n",
      "7982/7982 [==============================] - 1s 96us/step - loss: 2.6632 - accuracy: 0.4748 - val_loss: 1.7621 - val_accuracy: 0.6200\n",
      "Epoch 2/20\n",
      "7982/7982 [==============================] - 1s 77us/step - loss: 1.4542 - accuracy: 0.6873 - val_loss: 1.3255 - val_accuracy: 0.7050\n",
      "Epoch 3/20\n",
      "7982/7982 [==============================] - 1s 76us/step - loss: 1.0744 - accuracy: 0.7681 - val_loss: 1.1425 - val_accuracy: 0.7530\n",
      "Epoch 4/20\n",
      "7982/7982 [==============================] - 1s 76us/step - loss: 0.8432 - accuracy: 0.8195 - val_loss: 1.0459 - val_accuracy: 0.7760\n",
      "Epoch 5/20\n",
      "7982/7982 [==============================] - 1s 76us/step - loss: 0.6722 - accuracy: 0.8601 - val_loss: 0.9741 - val_accuracy: 0.7920\n",
      "Epoch 6/20\n",
      "7982/7982 [==============================] - 1s 75us/step - loss: 0.5415 - accuracy: 0.8840 - val_loss: 0.9256 - val_accuracy: 0.8100\n",
      "Epoch 7/20\n",
      "7982/7982 [==============================] - 1s 76us/step - loss: 0.4393 - accuracy: 0.9063 - val_loss: 0.9168 - val_accuracy: 0.8070\n",
      "Epoch 8/20\n",
      "7982/7982 [==============================] - 1s 77us/step - loss: 0.3587 - accuracy: 0.9242 - val_loss: 0.8921 - val_accuracy: 0.8150\n",
      "Epoch 9/20\n",
      "7982/7982 [==============================] - 1s 76us/step - loss: 0.2990 - accuracy: 0.9365 - val_loss: 0.9184 - val_accuracy: 0.8100\n",
      "Epoch 10/20\n",
      "7982/7982 [==============================] - 1s 77us/step - loss: 0.2480 - accuracy: 0.9427 - val_loss: 0.9365 - val_accuracy: 0.8040\n",
      "Epoch 11/20\n",
      "7982/7982 [==============================] - 1s 76us/step - loss: 0.2201 - accuracy: 0.9465 - val_loss: 0.9639 - val_accuracy: 0.8080\n",
      "Epoch 12/20\n",
      "7982/7982 [==============================] - 1s 76us/step - loss: 0.1909 - accuracy: 0.9504 - val_loss: 0.9151 - val_accuracy: 0.8200\n",
      "Epoch 13/20\n",
      "7982/7982 [==============================] - 1s 77us/step - loss: 0.1700 - accuracy: 0.9529 - val_loss: 0.9328 - val_accuracy: 0.8230\n",
      "Epoch 14/20\n",
      "7982/7982 [==============================] - 1s 77us/step - loss: 0.1551 - accuracy: 0.9546 - val_loss: 0.9579 - val_accuracy: 0.8240\n",
      "Epoch 15/20\n",
      "7982/7982 [==============================] - 1s 77us/step - loss: 0.1439 - accuracy: 0.9575 - val_loss: 0.9754 - val_accuracy: 0.8210\n",
      "Epoch 16/20\n",
      "7982/7982 [==============================] - 1s 77us/step - loss: 0.1323 - accuracy: 0.9557 - val_loss: 1.0092 - val_accuracy: 0.8060\n",
      "Epoch 17/20\n",
      "7982/7982 [==============================] - 1s 77us/step - loss: 0.1277 - accuracy: 0.9565 - val_loss: 1.0531 - val_accuracy: 0.8040\n",
      "Epoch 18/20\n",
      "7982/7982 [==============================] - 1s 77us/step - loss: 0.1223 - accuracy: 0.9564 - val_loss: 1.0204 - val_accuracy: 0.8160\n",
      "Epoch 19/20\n",
      "7982/7982 [==============================] - 1s 76us/step - loss: 0.1143 - accuracy: 0.9575 - val_loss: 1.1887 - val_accuracy: 0.7830\n",
      "Epoch 20/20\n",
      "7982/7982 [==============================] - 1s 76us/step - loss: 0.1139 - accuracy: 0.9574 - val_loss: 1.0848 - val_accuracy: 0.8030\n"
     ]
    },
    {
     "data": {
      "application/javascript": [
       "\n",
       "            setTimeout(function() {\n",
       "                var nbb_cell_id = 208;\n",
       "                var nbb_unformatted_code = \"results = model.fit(\\n    partial_x_train,\\n    partial_y_train,\\n    epochs=20,\\n    batch_size=512,\\n    validation_data=(x_val, y_val),\\n)\";\n",
       "                var nbb_formatted_code = \"results = model.fit(\\n    partial_x_train,\\n    partial_y_train,\\n    epochs=20,\\n    batch_size=512,\\n    validation_data=(x_val, y_val),\\n)\";\n",
       "                var nbb_cells = Jupyter.notebook.get_cells();\n",
       "                for (var i = 0; i < nbb_cells.length; ++i) {\n",
       "                    if (nbb_cells[i].input_prompt_number == nbb_cell_id) {\n",
       "                        if (nbb_cells[i].get_text() == nbb_unformatted_code) {\n",
       "                             nbb_cells[i].set_text(nbb_formatted_code);\n",
       "                        }\n",
       "                        break;\n",
       "                    }\n",
       "                }\n",
       "            }, 500);\n",
       "            "
      ],
      "text/plain": [
       "<IPython.core.display.Javascript object>"
      ]
     },
     "metadata": {},
     "output_type": "display_data"
    }
   ],
   "source": [
    "results = model.fit(\n",
    "    partial_x_train,\n",
    "    partial_y_train,\n",
    "    epochs=20,\n",
    "    batch_size=512,\n",
    "    validation_data=(x_val, y_val),\n",
    ")"
   ]
  },
  {
   "cell_type": "code",
   "execution_count": 209,
   "metadata": {},
   "outputs": [
    {
     "data": {
      "image/png": "[encoded data removed]",
      "text/plain": [
       "<Figure size 432x288 with 1 Axes>"
      ]
     },
     "metadata": {
      "needs_background": "light"
     },
     "output_type": "display_data"
    },
    {
     "data": {
      "application/javascript": [
       "\n",
       "            setTimeout(function() {\n",
       "                var nbb_cell_id = 209;\n",
       "                var nbb_unformatted_code = \"import matplotlib.pyplot as plt\\n\\n\\ndef plot_results(results):\\n    loss = results.history[\\\"loss\\\"]\\n    val_loss = results.history[\\\"val_loss\\\"]\\n\\n    epochs = range(1, len(loss) + 1)\\n\\n    plt.plot(epochs, loss, \\\"bo\\\", label=\\\"Training loss\\\")\\n    plt.plot(epochs, val_loss, \\\"b\\\", label=\\\"Validation loss\\\")\\n    plt.title(\\\"Training and validation loss\\\")\\n    plt.xlabel(\\\"Epochs\\\")\\n    plt.ylabel(\\\"Loss\\\")\\n    plt.legend()\\n\\n    plt.show()\\n\\n\\nplot_results(results)\";\n",
       "                var nbb_formatted_code = \"import matplotlib.pyplot as plt\\n\\n\\ndef plot_results(results):\\n    loss = results.history[\\\"loss\\\"]\\n    val_loss = results.history[\\\"val_loss\\\"]\\n\\n    epochs = range(1, len(loss) + 1)\\n\\n    plt.plot(epochs, loss, \\\"bo\\\", label=\\\"Training loss\\\")\\n    plt.plot(epochs, val_loss, \\\"b\\\", label=\\\"Validation loss\\\")\\n    plt.title(\\\"Training and validation loss\\\")\\n    plt.xlabel(\\\"Epochs\\\")\\n    plt.ylabel(\\\"Loss\\\")\\n    plt.legend()\\n\\n    plt.show()\\n\\n\\nplot_results(results)\";\n",
       "                var nbb_cells = Jupyter.notebook.get_cells();\n",
       "                for (var i = 0; i < nbb_cells.length; ++i) {\n",
       "                    if (nbb_cells[i].input_prompt_number == nbb_cell_id) {\n",
       "                        if (nbb_cells[i].get_text() == nbb_unformatted_code) {\n",
       "                             nbb_cells[i].set_text(nbb_formatted_code);\n",
       "                        }\n",
       "                        break;\n",
       "                    }\n",
       "                }\n",
       "            }, 500);\n",
       "            "
      ],
      "text/plain": [
       "<IPython.core.display.Javascript object>"
      ]
     },
     "metadata": {},
     "output_type": "display_data"
    }
   ],
   "source": [
    "import matplotlib.pyplot as plt\n",
    "\n",
    "\n",
    "def plot_results(results):\n",
    "    loss = results.history[\"loss\"]\n",
    "    val_loss = results.history[\"val_loss\"]\n",
    "\n",
    "    epochs = range(1, len(loss) + 1)\n",
    "\n",
    "    plt.plot(epochs, loss, \"bo\", label=\"Training loss\")\n",
    "    plt.plot(epochs, val_loss, \"b\", label=\"Validation loss\")\n",
    "    plt.title(\"Training and validation loss\")\n",
    "    plt.xlabel(\"Epochs\")\n",
    "    plt.ylabel(\"Loss\")\n",
    "    plt.legend()\n",
    "\n",
    "    plt.show()\n",
    "\n",
    "\n",
    "plot_results(results)"
   ]
  },
  {
   "cell_type": "code",
   "execution_count": 210,
   "metadata": {},
   "outputs": [
    {
     "name": "stdout",
     "output_type": "stream",
     "text": [
      "Epoch 0 showed validation loss of: 1.7621341562271118\n",
      "Epoch 1 showed validation loss of: 1.325480128288269\n",
      "Epoch 2 showed validation loss of: 1.1425304384231567\n",
      "Epoch 3 showed validation loss of: 1.045907588005066\n",
      "Epoch 4 showed validation loss of: 0.974147910118103\n",
      "Epoch 5 showed validation loss of: 0.9255949015617371\n",
      "Epoch 6 showed validation loss of: 0.9167661881446838\n",
      "Epoch 7 showed validation loss of: 0.89211554479599\n",
      "Epoch 8 showed validation loss of: 0.9183880319595337\n",
      "Epoch 9 showed validation loss of: 0.9365399980545044\n",
      "Epoch 10 showed validation loss of: 0.9639066581726075\n",
      "Epoch 11 showed validation loss of: 0.9150689797401428\n",
      "Epoch 12 showed validation loss of: 0.9327927122116089\n",
      "Epoch 13 showed validation loss of: 0.9579173264503479\n",
      "Epoch 14 showed validation loss of: 0.9753600997924805\n",
      "Epoch 15 showed validation loss of: 1.0092193431854248\n",
      "Epoch 16 showed validation loss of: 1.0530766868591308\n",
      "Epoch 17 showed validation loss of: 1.0203821506500244\n",
      "Epoch 18 showed validation loss of: 1.1887196540832519\n",
      "Epoch 19 showed validation loss of: 1.0847842664718628\n"
     ]
    },
    {
     "data": {
      "application/javascript": [
       "\n",
       "            setTimeout(function() {\n",
       "                var nbb_cell_id = 210;\n",
       "                var nbb_unformatted_code = \"val_loss = results.history[\\\"val_loss\\\"]\\n\\nfor i, loss in enumerate(val_loss):\\n    print(f\\\"Epoch {i} showed validation loss of: {loss}\\\")\";\n",
       "                var nbb_formatted_code = \"val_loss = results.history[\\\"val_loss\\\"]\\n\\nfor i, loss in enumerate(val_loss):\\n    print(f\\\"Epoch {i} showed validation loss of: {loss}\\\")\";\n",
       "                var nbb_cells = Jupyter.notebook.get_cells();\n",
       "                for (var i = 0; i < nbb_cells.length; ++i) {\n",
       "                    if (nbb_cells[i].input_prompt_number == nbb_cell_id) {\n",
       "                        if (nbb_cells[i].get_text() == nbb_unformatted_code) {\n",
       "                             nbb_cells[i].set_text(nbb_formatted_code);\n",
       "                        }\n",
       "                        break;\n",
       "                    }\n",
       "                }\n",
       "            }, 500);\n",
       "            "
      ],
      "text/plain": [
       "<IPython.core.display.Javascript object>"
      ]
     },
     "metadata": {},
     "output_type": "display_data"
    }
   ],
   "source": [
    "val_loss = results.history[\"val_loss\"]\n",
    "\n",
    "for i, loss in enumerate(val_loss):\n",
    "    print(f\"Epoch {i} showed validation loss of: {loss}\")"
   ]
  },
  {
   "cell_type": "code",
   "execution_count": 211,
   "metadata": {},
   "outputs": [
    {
     "name": "stdout",
     "output_type": "stream",
     "text": [
      "The lowest validation error was found after 7 epochs.\n",
      "After 7 epochs the model has an accuracy of about 0.9242044687271118.\n"
     ]
    },
    {
     "data": {
      "application/javascript": [
       "\n",
       "            setTimeout(function() {\n",
       "                var nbb_cell_id = 211;\n",
       "                var nbb_unformatted_code = \"optimal_epochs = np.argmin(val_loss)\\nprint(f\\\"The lowest validation error was found after {optimal_epochs} epochs.\\\")\\n\\noptimal_accuracy = results.history[\\\"accuracy\\\"][optimal_epochs]\\nprint(\\n    f\\\"After {np.argmin(val_loss)} epochs the model has an accuracy of about {optimal_accuracy}.\\\"\\n)\";\n",
       "                var nbb_formatted_code = \"optimal_epochs = np.argmin(val_loss)\\nprint(f\\\"The lowest validation error was found after {optimal_epochs} epochs.\\\")\\n\\noptimal_accuracy = results.history[\\\"accuracy\\\"][optimal_epochs]\\nprint(\\n    f\\\"After {np.argmin(val_loss)} epochs the model has an accuracy of about {optimal_accuracy}.\\\"\\n)\";\n",
       "                var nbb_cells = Jupyter.notebook.get_cells();\n",
       "                for (var i = 0; i < nbb_cells.length; ++i) {\n",
       "                    if (nbb_cells[i].input_prompt_number == nbb_cell_id) {\n",
       "                        if (nbb_cells[i].get_text() == nbb_unformatted_code) {\n",
       "                             nbb_cells[i].set_text(nbb_formatted_code);\n",
       "                        }\n",
       "                        break;\n",
       "                    }\n",
       "                }\n",
       "            }, 500);\n",
       "            "
      ],
      "text/plain": [
       "<IPython.core.display.Javascript object>"
      ]
     },
     "metadata": {},
     "output_type": "display_data"
    }
   ],
   "source": [
    "optimal_epochs = np.argmin(val_loss)\n",
    "print(f\"The lowest validation error was found after {optimal_epochs} epochs.\")\n",
    "\n",
    "optimal_accuracy = results.history[\"accuracy\"][optimal_epochs]\n",
    "print(\n",
    "    f\"After {np.argmin(val_loss)} epochs the model has an accuracy of about {optimal_accuracy}.\"\n",
    ")"
   ]
  },
  {
   "cell_type": "markdown",
   "metadata": {},
   "source": [
    "## Problem 3\n",
    "\n",
    "These are the recorded execution times for \"Run All Above\":\n",
    "* Local machine: 15.4 seconds\n",
    "* AWS EC2, 8-core CPU: 18.3 seconds\n",
    "\n",
    "My local machine has the following specs:\n",
    "* CPU: Intel(R) Core(TM) i9-9900K CPU @ 3.60GHz, 3600 Mhz, 8 Core(s), 16 Logical Processor(s)\n",
    "* GPU: NVIDIA GeForce RTX 2080 Ti\n"
   ]
  },
  {
   "attachments": {
    "terminated_instance.png": {
     "image/png": "[encoded data removed]"
    }
   },
   "cell_type": "markdown",
   "metadata": {},
   "source": [
    "![terminated_instance.png](attachment:terminated_instance.png)"
   ]
  },
  {
   "cell_type": "markdown",
   "metadata": {},
   "source": [
    "## Problem 4"
   ]
  },
  {
   "cell_type": "code",
   "execution_count": 212,
   "metadata": {},
   "outputs": [
    {
     "data": {
      "application/javascript": [
       "\n",
       "            setTimeout(function() {\n",
       "                var nbb_cell_id = 212;\n",
       "                var nbb_unformatted_code = \"def build_model():\\n    model = models.Sequential()\\n    model.add(layers.Dense(64, activation=\\\"relu\\\", input_shape=(10000,)))\\n    model.add(layers.Dense(64, activation=\\\"relu\\\"))\\n    model.add(layers.Dense(46, activation=\\\"softmax\\\"))\\n    model.compile(\\n        optimizer=\\\"rmsprop\\\", loss=\\\"categorical_crossentropy\\\", metrics=[\\\"accuracy\\\"]\\n    )\\n    return model\";\n",
       "                var nbb_formatted_code = \"def build_model():\\n    model = models.Sequential()\\n    model.add(layers.Dense(64, activation=\\\"relu\\\", input_shape=(10000,)))\\n    model.add(layers.Dense(64, activation=\\\"relu\\\"))\\n    model.add(layers.Dense(46, activation=\\\"softmax\\\"))\\n    model.compile(\\n        optimizer=\\\"rmsprop\\\", loss=\\\"categorical_crossentropy\\\", metrics=[\\\"accuracy\\\"]\\n    )\\n    return model\";\n",
       "                var nbb_cells = Jupyter.notebook.get_cells();\n",
       "                for (var i = 0; i < nbb_cells.length; ++i) {\n",
       "                    if (nbb_cells[i].input_prompt_number == nbb_cell_id) {\n",
       "                        if (nbb_cells[i].get_text() == nbb_unformatted_code) {\n",
       "                             nbb_cells[i].set_text(nbb_formatted_code);\n",
       "                        }\n",
       "                        break;\n",
       "                    }\n",
       "                }\n",
       "            }, 500);\n",
       "            "
      ],
      "text/plain": [
       "<IPython.core.display.Javascript object>"
      ]
     },
     "metadata": {},
     "output_type": "display_data"
    }
   ],
   "source": [
    "def build_model():\n",
    "    model = models.Sequential()\n",
    "    model.add(layers.Dense(64, activation=\"relu\", input_shape=(10000,)))\n",
    "    model.add(layers.Dense(64, activation=\"relu\"))\n",
    "    model.add(layers.Dense(46, activation=\"softmax\"))\n",
    "    model.compile(\n",
    "        optimizer=\"rmsprop\", loss=\"categorical_crossentropy\", metrics=[\"accuracy\"]\n",
    "    )\n",
    "    return model"
   ]
  },
  {
   "cell_type": "code",
   "execution_count": 213,
   "metadata": {},
   "outputs": [
    {
     "name": "stdout",
     "output_type": "stream",
     "text": [
      "processing fold # 0\n",
      "Train on 6737 samples, validate on 1000 samples\n",
      "Epoch 1/7\n",
      "6737/6737 [==============================] - 1s 195us/step - loss: 1.5512 - accuracy: 0.6601 - val_loss: 1.1280 - val_accuracy: 0.7470\n",
      "Epoch 2/7\n",
      "6737/6737 [==============================] - 1s 187us/step - loss: 0.8241 - accuracy: 0.8199 - val_loss: 0.9497 - val_accuracy: 0.8010\n",
      "Epoch 3/7\n",
      "6737/6737 [==============================] - 1s 188us/step - loss: 0.5061 - accuracy: 0.8924 - val_loss: 0.8824 - val_accuracy: 0.8200\n",
      "Epoch 4/7\n",
      "6737/6737 [==============================] - 1s 191us/step - loss: 0.3367 - accuracy: 0.9295 - val_loss: 0.9296 - val_accuracy: 0.8270\n",
      "Epoch 5/7\n",
      "6737/6737 [==============================] - 1s 212us/step - loss: 0.2534 - accuracy: 0.9460 - val_loss: 1.0526 - val_accuracy: 0.8140\n",
      "Epoch 6/7\n",
      "6737/6737 [==============================] - 2s 254us/step - loss: 0.2071 - accuracy: 0.9516 - val_loss: 1.1308 - val_accuracy: 0.8070\n",
      "Epoch 7/7\n",
      "6737/6737 [==============================] - 2s 276us/step - loss: 0.1826 - accuracy: 0.9577 - val_loss: 1.1670 - val_accuracy: 0.8050\n",
      "processing fold # 1\n",
      "Train on 6737 samples, validate on 1000 samples\n",
      "Epoch 1/7\n",
      "6737/6737 [==============================] - 2s 250us/step - loss: 1.4957 - accuracy: 0.6739 - val_loss: 0.8414 - val_accuracy: 0.8000\n",
      "Epoch 2/7\n",
      "6737/6737 [==============================] - 2s 239us/step - loss: 0.7851 - accuracy: 0.8266 - val_loss: 0.4671 - val_accuracy: 0.9090\n",
      "Epoch 3/7\n",
      "6737/6737 [==============================] - 2s 244us/step - loss: 0.4818 - accuracy: 0.8977 - val_loss: 0.2904 - val_accuracy: 0.9460\n",
      "Epoch 4/7\n",
      "6737/6737 [==============================] - 2s 256us/step - loss: 0.3201 - accuracy: 0.9293 - val_loss: 0.1971 - val_accuracy: 0.9600\n",
      "Epoch 5/7\n",
      "6737/6737 [==============================] - 2s 295us/step - loss: 0.2389 - accuracy: 0.9491 - val_loss: 0.1576 - val_accuracy: 0.9650\n",
      "Epoch 6/7\n",
      "6737/6737 [==============================] - 2s 249us/step - loss: 0.1921 - accuracy: 0.9558 - val_loss: 0.1280 - val_accuracy: 0.9670\n",
      "Epoch 7/7\n",
      "6737/6737 [==============================] - 2s 245us/step - loss: 0.1656 - accuracy: 0.9601 - val_loss: 0.1072 - val_accuracy: 0.9700\n",
      "processing fold # 2\n",
      "Train on 6737 samples, validate on 1000 samples\n",
      "Epoch 1/7\n",
      "6737/6737 [==============================] - 2s 287us/step - loss: 1.5232 - accuracy: 0.6684 - val_loss: 0.8397 - val_accuracy: 0.8150\n",
      "Epoch 2/7\n",
      "6737/6737 [==============================] - 1s 188us/step - loss: 0.7950 - accuracy: 0.8272 - val_loss: 0.4608 - val_accuracy: 0.9090\n",
      "Epoch 3/7\n",
      "6737/6737 [==============================] - 1s 185us/step - loss: 0.4956 - accuracy: 0.8921 - val_loss: 0.2697 - val_accuracy: 0.9510\n",
      "Epoch 4/7\n",
      "6737/6737 [==============================] - 1s 199us/step - loss: 0.3301 - accuracy: 0.9310 - val_loss: 0.1848 - val_accuracy: 0.9620\n",
      "Epoch 5/7\n",
      "6737/6737 [==============================] - 1s 203us/step - loss: 0.2469 - accuracy: 0.9472 - val_loss: 0.1276 - val_accuracy: 0.9740\n",
      "Epoch 6/7\n",
      "6737/6737 [==============================] - 1s 186us/step - loss: 0.2087 - accuracy: 0.9543 - val_loss: 0.1015 - val_accuracy: 0.9760\n",
      "Epoch 7/7\n",
      "6737/6737 [==============================] - 1s 188us/step - loss: 0.1804 - accuracy: 0.9571 - val_loss: 0.0946 - val_accuracy: 0.9730\n",
      "processing fold # 3\n",
      "Train on 6737 samples, validate on 1000 samples\n",
      "Epoch 1/7\n",
      "6737/6737 [==============================] - 1s 203us/step - loss: 1.5074 - accuracy: 0.6749 - val_loss: 0.8603 - val_accuracy: 0.8080\n",
      "Epoch 2/7\n",
      "6737/6737 [==============================] - 1s 195us/step - loss: 0.7857 - accuracy: 0.8274 - val_loss: 0.4695 - val_accuracy: 0.8990\n",
      "Epoch 3/7\n",
      "6737/6737 [==============================] - 1s 192us/step - loss: 0.4857 - accuracy: 0.8945 - val_loss: 0.2902 - val_accuracy: 0.9410\n",
      "Epoch 4/7\n",
      "6737/6737 [==============================] - 1s 195us/step - loss: 0.3223 - accuracy: 0.9307 - val_loss: 0.1925 - val_accuracy: 0.9640\n",
      "Epoch 5/7\n",
      "6737/6737 [==============================] - 1s 195us/step - loss: 0.2369 - accuracy: 0.9486 - val_loss: 0.1461 - val_accuracy: 0.9680\n",
      "Epoch 6/7\n",
      "6737/6737 [==============================] - 1s 193us/step - loss: 0.1958 - accuracy: 0.9564 - val_loss: 0.1295 - val_accuracy: 0.9660\n",
      "Epoch 7/7\n",
      "6737/6737 [==============================] - 1s 192us/step - loss: 0.1723 - accuracy: 0.9607 - val_loss: 0.1138 - val_accuracy: 0.9700\n"
     ]
    },
    {
     "data": {
      "application/javascript": [
       "\n",
       "            setTimeout(function() {\n",
       "                var nbb_cell_id = 213;\n",
       "                var nbb_unformatted_code = \"k = 4\\nnum_val_samples = len(x_train) // k\\nall_scores = []\\n\\nfor i in range(k):\\n    print(\\\"processing fold #\\\", i)\\n    # Prepare the validation data: data from partition # k\\n    val_data = x_train[i * num_val_samples : (i + 1) * num_val_samples]\\n    val_targets = one_hot_train_labels[i * num_val_samples : (i + 1) * num_val_samples]\\n\\n    # Prepare the training data: data from all other partitions\\n    partial_train_data = np.concatenate(\\n        [x_train[: i * num_val_samples], x_train[(i + 1) * num_val_samples :]], axis=0,\\n    )\\n    partial_train_targets = np.concatenate(\\n        [\\n            one_hot_train_labels[: i * num_val_samples],\\n            one_hot_train_labels[(i + 1) * num_val_samples :],\\n        ],\\n        axis=0,\\n    )\\n\\n    # Build the Keras model (already compiled)\\n    model = build_model()\\n\\n    # Train the model (in silent mode, verbose=0)\\n    results = model.fit(\\n        partial_train_data,\\n        partial_train_targets,\\n        epochs=optimal_epochs,\\n        validation_data=(x_val, y_val),\\n    )\\n\\n    all_scores.append(results.history[\\\"accuracy\\\"][optimal_epochs - 1])\";\n",
       "                var nbb_formatted_code = \"k = 4\\nnum_val_samples = len(x_train) // k\\nall_scores = []\\n\\nfor i in range(k):\\n    print(\\\"processing fold #\\\", i)\\n    # Prepare the validation data: data from partition # k\\n    val_data = x_train[i * num_val_samples : (i + 1) * num_val_samples]\\n    val_targets = one_hot_train_labels[i * num_val_samples : (i + 1) * num_val_samples]\\n\\n    # Prepare the training data: data from all other partitions\\n    partial_train_data = np.concatenate(\\n        [x_train[: i * num_val_samples], x_train[(i + 1) * num_val_samples :]], axis=0,\\n    )\\n    partial_train_targets = np.concatenate(\\n        [\\n            one_hot_train_labels[: i * num_val_samples],\\n            one_hot_train_labels[(i + 1) * num_val_samples :],\\n        ],\\n        axis=0,\\n    )\\n\\n    # Build the Keras model (already compiled)\\n    model = build_model()\\n\\n    # Train the model (in silent mode, verbose=0)\\n    results = model.fit(\\n        partial_train_data,\\n        partial_train_targets,\\n        epochs=optimal_epochs,\\n        validation_data=(x_val, y_val),\\n    )\\n\\n    all_scores.append(results.history[\\\"accuracy\\\"][optimal_epochs - 1])\";\n",
       "                var nbb_cells = Jupyter.notebook.get_cells();\n",
       "                for (var i = 0; i < nbb_cells.length; ++i) {\n",
       "                    if (nbb_cells[i].input_prompt_number == nbb_cell_id) {\n",
       "                        if (nbb_cells[i].get_text() == nbb_unformatted_code) {\n",
       "                             nbb_cells[i].set_text(nbb_formatted_code);\n",
       "                        }\n",
       "                        break;\n",
       "                    }\n",
       "                }\n",
       "            }, 500);\n",
       "            "
      ],
      "text/plain": [
       "<IPython.core.display.Javascript object>"
      ]
     },
     "metadata": {},
     "output_type": "display_data"
    }
   ],
   "source": [
    "k = 4\n",
    "num_val_samples = len(x_train) // k\n",
    "all_scores = []\n",
    "\n",
    "for i in range(k):\n",
    "    print(\"processing fold #\", i)\n",
    "    # Prepare the validation data: data from partition # k\n",
    "    val_data = x_train[i * num_val_samples : (i + 1) * num_val_samples]\n",
    "    val_targets = one_hot_train_labels[i * num_val_samples : (i + 1) * num_val_samples]\n",
    "\n",
    "    # Prepare the training data: data from all other partitions\n",
    "    partial_train_data = np.concatenate(\n",
    "        [x_train[: i * num_val_samples], x_train[(i + 1) * num_val_samples :]], axis=0,\n",
    "    )\n",
    "    partial_train_targets = np.concatenate(\n",
    "        [\n",
    "            one_hot_train_labels[: i * num_val_samples],\n",
    "            one_hot_train_labels[(i + 1) * num_val_samples :],\n",
    "        ],\n",
    "        axis=0,\n",
    "    )\n",
    "\n",
    "    # Build the Keras model (already compiled)\n",
    "    model = build_model()\n",
    "\n",
    "    # Train the model (in silent mode, verbose=0)\n",
    "    results = model.fit(\n",
    "        partial_train_data,\n",
    "        partial_train_targets,\n",
    "        epochs=optimal_epochs,\n",
    "        validation_data=(x_val, y_val),\n",
    "    )\n",
    "\n",
    "    all_scores.append(results.history[\"accuracy\"][optimal_epochs - 1])"
   ]
  },
  {
   "cell_type": "code",
   "execution_count": 214,
   "metadata": {},
   "outputs": [
    {
     "name": "stdout",
     "output_type": "stream",
     "text": [
      "Our k-fold approach has an accuracy of about 0.9588837623596191, versus 0.9242044687271118 previously.\n"
     ]
    },
    {
     "data": {
      "application/javascript": [
       "\n",
       "            setTimeout(function() {\n",
       "                var nbb_cell_id = 214;\n",
       "                var nbb_unformatted_code = \"k_fold_acc = np.mean(all_scores)\\nprint(\\n    f\\\"Our k-fold approach has an accuracy of about {k_fold_acc}, versus {optimal_accuracy} previously.\\\"\\n)\";\n",
       "                var nbb_formatted_code = \"k_fold_acc = np.mean(all_scores)\\nprint(\\n    f\\\"Our k-fold approach has an accuracy of about {k_fold_acc}, versus {optimal_accuracy} previously.\\\"\\n)\";\n",
       "                var nbb_cells = Jupyter.notebook.get_cells();\n",
       "                for (var i = 0; i < nbb_cells.length; ++i) {\n",
       "                    if (nbb_cells[i].input_prompt_number == nbb_cell_id) {\n",
       "                        if (nbb_cells[i].get_text() == nbb_unformatted_code) {\n",
       "                             nbb_cells[i].set_text(nbb_formatted_code);\n",
       "                        }\n",
       "                        break;\n",
       "                    }\n",
       "                }\n",
       "            }, 500);\n",
       "            "
      ],
      "text/plain": [
       "<IPython.core.display.Javascript object>"
      ]
     },
     "metadata": {},
     "output_type": "display_data"
    }
   ],
   "source": [
    "k_fold_acc = np.mean(all_scores)\n",
    "print(\n",
    "    f\"Our k-fold approach has an accuracy of about {k_fold_acc}, versus {optimal_accuracy} previously.\"\n",
    ")"
   ]
  },
  {
   "cell_type": "code",
   "execution_count": 215,
   "metadata": {},
   "outputs": [
    {
     "data": {
      "image/png": "[encoded data removed]",
      "text/plain": [
       "<Figure size 432x288 with 1 Axes>"
      ]
     },
     "metadata": {
      "needs_background": "light"
     },
     "output_type": "display_data"
    },
    {
     "data": {
      "application/javascript": [
       "\n",
       "            setTimeout(function() {\n",
       "                var nbb_cell_id = 215;\n",
       "                var nbb_unformatted_code = \"plt.plot(range(4), all_scores)\\nplt.title(\\\"Accuracies for the four folds\\\")\\nplt.show()\";\n",
       "                var nbb_formatted_code = \"plt.plot(range(4), all_scores)\\nplt.title(\\\"Accuracies for the four folds\\\")\\nplt.show()\";\n",
       "                var nbb_cells = Jupyter.notebook.get_cells();\n",
       "                for (var i = 0; i < nbb_cells.length; ++i) {\n",
       "                    if (nbb_cells[i].input_prompt_number == nbb_cell_id) {\n",
       "                        if (nbb_cells[i].get_text() == nbb_unformatted_code) {\n",
       "                             nbb_cells[i].set_text(nbb_formatted_code);\n",
       "                        }\n",
       "                        break;\n",
       "                    }\n",
       "                }\n",
       "            }, 500);\n",
       "            "
      ],
      "text/plain": [
       "<IPython.core.display.Javascript object>"
      ]
     },
     "metadata": {},
     "output_type": "display_data"
    }
   ],
   "source": [
    "plt.plot(range(4), all_scores)\n",
    "plt.title(\"Accuracies for the four folds\")\n",
    "plt.show()"
   ]
  },
  {
   "cell_type": "markdown",
   "metadata": {},
   "source": [
    "## Problem 5"
   ]
  },
  {
   "cell_type": "code",
   "execution_count": 216,
   "metadata": {},
   "outputs": [
    {
     "data": {
      "application/javascript": [
       "\n",
       "            setTimeout(function() {\n",
       "                var nbb_cell_id = 216;\n",
       "                var nbb_unformatted_code = \"from keras import regularizers\\n\\n\\ndef build_l2_model(lam):\\n    l2_model = models.Sequential()\\n    l2_model.add(\\n        layers.Dense(\\n            64,\\n            kernel_regularizer=regularizers.l2(lam),\\n            activation=\\\"relu\\\",\\n            input_shape=(10000,),\\n        )\\n    )\\n    l2_model.add(\\n        layers.Dense(64, kernel_regularizer=regularizers.l2(lam), activation=\\\"relu\\\")\\n    )\\n    l2_model.add(layers.Dense(46, activation=\\\"softmax\\\"))\\n    l2_model.compile(\\n        optimizer=\\\"rmsprop\\\", loss=\\\"categorical_crossentropy\\\", metrics=[\\\"accuracy\\\"]\\n    )\\n    return l2_model\";\n",
       "                var nbb_formatted_code = \"from keras import regularizers\\n\\n\\ndef build_l2_model(lam):\\n    l2_model = models.Sequential()\\n    l2_model.add(\\n        layers.Dense(\\n            64,\\n            kernel_regularizer=regularizers.l2(lam),\\n            activation=\\\"relu\\\",\\n            input_shape=(10000,),\\n        )\\n    )\\n    l2_model.add(\\n        layers.Dense(64, kernel_regularizer=regularizers.l2(lam), activation=\\\"relu\\\")\\n    )\\n    l2_model.add(layers.Dense(46, activation=\\\"softmax\\\"))\\n    l2_model.compile(\\n        optimizer=\\\"rmsprop\\\", loss=\\\"categorical_crossentropy\\\", metrics=[\\\"accuracy\\\"]\\n    )\\n    return l2_model\";\n",
       "                var nbb_cells = Jupyter.notebook.get_cells();\n",
       "                for (var i = 0; i < nbb_cells.length; ++i) {\n",
       "                    if (nbb_cells[i].input_prompt_number == nbb_cell_id) {\n",
       "                        if (nbb_cells[i].get_text() == nbb_unformatted_code) {\n",
       "                             nbb_cells[i].set_text(nbb_formatted_code);\n",
       "                        }\n",
       "                        break;\n",
       "                    }\n",
       "                }\n",
       "            }, 500);\n",
       "            "
      ],
      "text/plain": [
       "<IPython.core.display.Javascript object>"
      ]
     },
     "metadata": {},
     "output_type": "display_data"
    }
   ],
   "source": [
    "from keras import regularizers\n",
    "\n",
    "\n",
    "def build_l2_model(lam):\n",
    "    l2_model = models.Sequential()\n",
    "    l2_model.add(\n",
    "        layers.Dense(\n",
    "            64,\n",
    "            kernel_regularizer=regularizers.l2(lam),\n",
    "            activation=\"relu\",\n",
    "            input_shape=(10000,),\n",
    "        )\n",
    "    )\n",
    "    l2_model.add(\n",
    "        layers.Dense(64, kernel_regularizer=regularizers.l2(lam), activation=\"relu\")\n",
    "    )\n",
    "    l2_model.add(layers.Dense(46, activation=\"softmax\"))\n",
    "    l2_model.compile(\n",
    "        optimizer=\"rmsprop\", loss=\"categorical_crossentropy\", metrics=[\"accuracy\"]\n",
    "    )\n",
    "    return l2_model"
   ]
  },
  {
   "cell_type": "code",
   "execution_count": 217,
   "metadata": {},
   "outputs": [
    {
     "name": "stdout",
     "output_type": "stream",
     "text": [
      "Train on 7982 samples, validate on 1000 samples\n",
      "Epoch 1/20\n",
      "7982/7982 [==============================] - 1s 92us/step - loss: 2.9462 - accuracy: 0.5122 - val_loss: 1.9978 - val_accuracy: 0.6370\n",
      "Epoch 2/20\n",
      "7982/7982 [==============================] - 1s 79us/step - loss: 1.6579 - accuracy: 0.6894 - val_loss: 1.4767 - val_accuracy: 0.7160\n",
      "Epoch 3/20\n",
      "7982/7982 [==============================] - 1s 79us/step - loss: 1.2780 - accuracy: 0.7590 - val_loss: 1.3073 - val_accuracy: 0.7470\n",
      "Epoch 4/20\n",
      "7982/7982 [==============================] - 1s 81us/step - loss: 1.0851 - accuracy: 0.8076 - val_loss: 1.2400 - val_accuracy: 0.7580\n",
      "Epoch 5/20\n",
      "7982/7982 [==============================] - 1s 79us/step - loss: 0.9531 - accuracy: 0.8368 - val_loss: 1.1749 - val_accuracy: 0.7900\n",
      "Epoch 6/20\n",
      "7982/7982 [==============================] - 1s 80us/step - loss: 0.8573 - accuracy: 0.8597 - val_loss: 1.1450 - val_accuracy: 0.8000\n",
      "Epoch 7/20\n",
      "7982/7982 [==============================] - 1s 79us/step - loss: 0.7788 - accuracy: 0.8786 - val_loss: 1.1181 - val_accuracy: 0.8020\n",
      "Epoch 8/20\n",
      "7982/7982 [==============================] - 1s 79us/step - loss: 0.7199 - accuracy: 0.8910 - val_loss: 1.0921 - val_accuracy: 0.8110\n",
      "Epoch 9/20\n",
      "7982/7982 [==============================] - 1s 80us/step - loss: 0.6635 - accuracy: 0.9074 - val_loss: 1.0803 - val_accuracy: 0.8120\n",
      "Epoch 10/20\n",
      "7982/7982 [==============================] - 1s 80us/step - loss: 0.6264 - accuracy: 0.9139 - val_loss: 1.0811 - val_accuracy: 0.8140\n",
      "Epoch 11/20\n",
      "7982/7982 [==============================] - 1s 82us/step - loss: 0.5882 - accuracy: 0.9232 - val_loss: 1.0914 - val_accuracy: 0.8070\n",
      "Epoch 12/20\n",
      "7982/7982 [==============================] - 1s 82us/step - loss: 0.5690 - accuracy: 0.9287 - val_loss: 1.0705 - val_accuracy: 0.8080\n",
      "Epoch 13/20\n",
      "7982/7982 [==============================] - 1s 79us/step - loss: 0.5426 - accuracy: 0.9326 - val_loss: 1.0972 - val_accuracy: 0.8030\n",
      "Epoch 14/20\n",
      "7982/7982 [==============================] - 1s 79us/step - loss: 0.5247 - accuracy: 0.9391 - val_loss: 1.0788 - val_accuracy: 0.8050\n",
      "Epoch 15/20\n",
      "7982/7982 [==============================] - 1s 79us/step - loss: 0.5054 - accuracy: 0.9417 - val_loss: 1.1110 - val_accuracy: 0.7950\n",
      "Epoch 16/20\n",
      "7982/7982 [==============================] - 1s 79us/step - loss: 0.4868 - accuracy: 0.9435 - val_loss: 1.0927 - val_accuracy: 0.8010\n",
      "Epoch 17/20\n",
      "7982/7982 [==============================] - 1s 79us/step - loss: 0.4828 - accuracy: 0.9437 - val_loss: 1.0643 - val_accuracy: 0.8030\n",
      "Epoch 18/20\n",
      "7982/7982 [==============================] - 1s 79us/step - loss: 0.4706 - accuracy: 0.9464 - val_loss: 1.0622 - val_accuracy: 0.8190\n",
      "Epoch 19/20\n",
      "7982/7982 [==============================] - 1s 79us/step - loss: 0.4553 - accuracy: 0.9485 - val_loss: 1.0610 - val_accuracy: 0.8170\n",
      "Epoch 20/20\n",
      "7982/7982 [==============================] - 1s 80us/step - loss: 0.4494 - accuracy: 0.9493 - val_loss: 1.1107 - val_accuracy: 0.7990\n",
      "Train on 7982 samples, validate on 1000 samples\n",
      "Epoch 1/20\n",
      "7982/7982 [==============================] - 1s 94us/step - loss: 3.2721 - accuracy: 0.5367 - val_loss: 2.2588 - val_accuracy: 0.6420\n",
      "Epoch 2/20\n",
      "7982/7982 [==============================] - 1s 83us/step - loss: 1.9700 - accuracy: 0.6814 - val_loss: 1.8250 - val_accuracy: 0.6830\n",
      "Epoch 3/20\n",
      "7982/7982 [==============================] - 1s 84us/step - loss: 1.6690 - accuracy: 0.7216 - val_loss: 1.7001 - val_accuracy: 0.7160\n",
      "Epoch 4/20\n",
      "7982/7982 [==============================] - 1s 82us/step - loss: 1.5219 - accuracy: 0.7539 - val_loss: 1.5895 - val_accuracy: 0.7430\n",
      "Epoch 5/20\n",
      "7982/7982 [==============================] - 1s 81us/step - loss: 1.4270 - accuracy: 0.7845 - val_loss: 1.5519 - val_accuracy: 0.7390\n",
      "Epoch 6/20\n",
      "7982/7982 [==============================] - 1s 81us/step - loss: 1.3566 - accuracy: 0.8004 - val_loss: 1.5034 - val_accuracy: 0.7770\n",
      "Epoch 7/20\n",
      "7982/7982 [==============================] - 1s 81us/step - loss: 1.3021 - accuracy: 0.8125 - val_loss: 1.4706 - val_accuracy: 0.7730\n",
      "Epoch 8/20\n",
      "7982/7982 [==============================] - 1s 78us/step - loss: 1.2510 - accuracy: 0.8255 - val_loss: 1.4413 - val_accuracy: 0.7870\n",
      "Epoch 9/20\n",
      "7982/7982 [==============================] - 1s 79us/step - loss: 1.2169 - accuracy: 0.8294 - val_loss: 1.4534 - val_accuracy: 0.7780\n",
      "Epoch 10/20\n",
      "7982/7982 [==============================] - 1s 78us/step - loss: 1.1843 - accuracy: 0.8363 - val_loss: 1.4423 - val_accuracy: 0.7870\n",
      "Epoch 11/20\n",
      "7982/7982 [==============================] - 1s 78us/step - loss: 1.1568 - accuracy: 0.8401 - val_loss: 1.4146 - val_accuracy: 0.7960\n",
      "Epoch 12/20\n",
      "7982/7982 [==============================] - 1s 79us/step - loss: 1.1310 - accuracy: 0.8464 - val_loss: 1.4009 - val_accuracy: 0.7960\n",
      "Epoch 13/20\n",
      "7982/7982 [==============================] - 1s 78us/step - loss: 1.1079 - accuracy: 0.8499 - val_loss: 1.3916 - val_accuracy: 0.7920\n",
      "Epoch 14/20\n",
      "7982/7982 [==============================] - 1s 78us/step - loss: 1.0884 - accuracy: 0.8542 - val_loss: 1.4131 - val_accuracy: 0.7970\n",
      "Epoch 15/20\n",
      "7982/7982 [==============================] - 1s 78us/step - loss: 1.0723 - accuracy: 0.8586 - val_loss: 1.3635 - val_accuracy: 0.8030\n",
      "Epoch 16/20\n",
      "7982/7982 [==============================] - 1s 77us/step - loss: 1.0481 - accuracy: 0.8664 - val_loss: 1.3618 - val_accuracy: 0.8040\n",
      "Epoch 17/20\n",
      "7982/7982 [==============================] - 1s 78us/step - loss: 1.0334 - accuracy: 0.8710 - val_loss: 1.3932 - val_accuracy: 0.7860\n",
      "Epoch 18/20\n",
      "7982/7982 [==============================] - 1s 79us/step - loss: 1.0280 - accuracy: 0.8703 - val_loss: 1.3487 - val_accuracy: 0.8010\n",
      "Epoch 19/20\n",
      "7982/7982 [==============================] - 1s 78us/step - loss: 0.9946 - accuracy: 0.8789 - val_loss: 1.3930 - val_accuracy: 0.7890\n",
      "Epoch 20/20\n",
      "7982/7982 [==============================] - 1s 79us/step - loss: 0.9988 - accuracy: 0.8779 - val_loss: 1.3423 - val_accuracy: 0.8020\n",
      "Train on 7982 samples, validate on 1000 samples\n",
      "Epoch 1/20\n",
      "7982/7982 [==============================] - 1s 89us/step - loss: 2.6035 - accuracy: 0.5089 - val_loss: 1.7684 - val_accuracy: 0.6490\n",
      "Epoch 2/20\n",
      "7982/7982 [==============================] - 1s 79us/step - loss: 1.4958 - accuracy: 0.7119 - val_loss: 1.3989 - val_accuracy: 0.7080\n",
      "Epoch 3/20\n",
      "7982/7982 [==============================] - 1s 78us/step - loss: 1.1658 - accuracy: 0.7658 - val_loss: 1.2442 - val_accuracy: 0.7560\n",
      "Epoch 4/20\n",
      "7982/7982 [==============================] - 1s 78us/step - loss: 0.9727 - accuracy: 0.8109 - val_loss: 1.1572 - val_accuracy: 0.7700\n",
      "Epoch 5/20\n",
      "7982/7982 [==============================] - 1s 78us/step - loss: 0.8194 - accuracy: 0.8534 - val_loss: 1.1065 - val_accuracy: 0.7800\n",
      "Epoch 6/20\n",
      "7982/7982 [==============================] - 1s 77us/step - loss: 0.7117 - accuracy: 0.8789 - val_loss: 1.0604 - val_accuracy: 0.8010\n",
      "Epoch 7/20\n",
      "7982/7982 [==============================] - 1s 79us/step - loss: 0.6198 - accuracy: 0.8976 - val_loss: 1.0464 - val_accuracy: 0.8020\n",
      "Epoch 8/20\n",
      "7982/7982 [==============================] - 1s 78us/step - loss: 0.5572 - accuracy: 0.9121 - val_loss: 1.0270 - val_accuracy: 0.8090\n",
      "Epoch 9/20\n",
      "7982/7982 [==============================] - 1s 79us/step - loss: 0.4970 - accuracy: 0.9277 - val_loss: 1.0134 - val_accuracy: 0.8120\n",
      "Epoch 10/20\n",
      "7982/7982 [==============================] - 1s 78us/step - loss: 0.4635 - accuracy: 0.9350 - val_loss: 1.0272 - val_accuracy: 0.8070\n",
      "Epoch 11/20\n",
      "7982/7982 [==============================] - 1s 78us/step - loss: 0.4306 - accuracy: 0.9400 - val_loss: 1.0298 - val_accuracy: 0.8100\n",
      "Epoch 12/20\n",
      "7982/7982 [==============================] - 1s 77us/step - loss: 0.4069 - accuracy: 0.9442 - val_loss: 1.0075 - val_accuracy: 0.8130\n",
      "Epoch 13/20\n",
      "7982/7982 [==============================] - 1s 77us/step - loss: 0.3865 - accuracy: 0.9488 - val_loss: 1.0270 - val_accuracy: 0.8060\n",
      "Epoch 14/20\n",
      "7982/7982 [==============================] - 1s 78us/step - loss: 0.3732 - accuracy: 0.9489 - val_loss: 1.0439 - val_accuracy: 0.8070\n",
      "Epoch 15/20\n",
      "7982/7982 [==============================] - 1s 79us/step - loss: 0.3561 - accuracy: 0.9526 - val_loss: 1.0217 - val_accuracy: 0.8210\n",
      "Epoch 16/20\n"
     ]
    },
    {
     "name": "stdout",
     "output_type": "stream",
     "text": [
      "7982/7982 [==============================] - 1s 79us/step - loss: 0.3431 - accuracy: 0.9521 - val_loss: 1.0047 - val_accuracy: 0.8150\n",
      "Epoch 17/20\n",
      "7982/7982 [==============================] - 1s 78us/step - loss: 0.3411 - accuracy: 0.9524 - val_loss: 1.0180 - val_accuracy: 0.8130\n",
      "Epoch 18/20\n",
      "7982/7982 [==============================] - 1s 79us/step - loss: 0.3273 - accuracy: 0.9538 - val_loss: 1.0277 - val_accuracy: 0.8090\n",
      "Epoch 19/20\n",
      "7982/7982 [==============================] - 1s 78us/step - loss: 0.3243 - accuracy: 0.9539 - val_loss: 1.0182 - val_accuracy: 0.8160\n",
      "Epoch 20/20\n",
      "7982/7982 [==============================] - 1s 79us/step - loss: 0.3143 - accuracy: 0.9540 - val_loss: 1.0546 - val_accuracy: 0.8170\n"
     ]
    },
    {
     "data": {
      "application/javascript": [
       "\n",
       "            setTimeout(function() {\n",
       "                var nbb_cell_id = 217;\n",
       "                var nbb_unformatted_code = \"lambdas = [0.001, 0.005, 0.0005]\\nresults_arr = []\\n\\nfor lam in lambdas:\\n    l2_model = build_l2_model(lam)\\n    results = l2_model.fit(\\n        partial_x_train,\\n        partial_y_train,\\n        epochs=20,\\n        batch_size=512,\\n        validation_data=(x_val, y_val)\\n    )\\n    results_arr.append(results)\";\n",
       "                var nbb_formatted_code = \"lambdas = [0.001, 0.005, 0.0005]\\nresults_arr = []\\n\\nfor lam in lambdas:\\n    l2_model = build_l2_model(lam)\\n    results = l2_model.fit(\\n        partial_x_train,\\n        partial_y_train,\\n        epochs=20,\\n        batch_size=512,\\n        validation_data=(x_val, y_val),\\n    )\\n    results_arr.append(results)\";\n",
       "                var nbb_cells = Jupyter.notebook.get_cells();\n",
       "                for (var i = 0; i < nbb_cells.length; ++i) {\n",
       "                    if (nbb_cells[i].input_prompt_number == nbb_cell_id) {\n",
       "                        if (nbb_cells[i].get_text() == nbb_unformatted_code) {\n",
       "                             nbb_cells[i].set_text(nbb_formatted_code);\n",
       "                        }\n",
       "                        break;\n",
       "                    }\n",
       "                }\n",
       "            }, 500);\n",
       "            "
      ],
      "text/plain": [
       "<IPython.core.display.Javascript object>"
      ]
     },
     "metadata": {},
     "output_type": "display_data"
    }
   ],
   "source": [
    "lambdas = [0.001, 0.005, 0.0005]\n",
    "results_arr = []\n",
    "\n",
    "for lam in lambdas:\n",
    "    l2_model = build_l2_model(lam)\n",
    "    results = l2_model.fit(\n",
    "        partial_x_train,\n",
    "        partial_y_train,\n",
    "        epochs=20,\n",
    "        batch_size=512,\n",
    "        validation_data=(x_val, y_val)\n",
    "    )\n",
    "    results_arr.append(results)\n"
   ]
  },
  {
   "cell_type": "code",
   "execution_count": 218,
   "metadata": {},
   "outputs": [
    {
     "name": "stdout",
     "output_type": "stream",
     "text": [
      "--------------------------------------\n",
      "Results for lambda=0.001\n",
      "The lowest validation error was found after 18 epochs.\n",
      "After 18 epochs the model has an accuracy of about 0.948509156703949.\n"
     ]
    },
    {
     "data": {
      "image/png": "[encoded data removed]",
      "text/plain": [
       "<Figure size 432x288 with 1 Axes>"
      ]
     },
     "metadata": {
      "needs_background": "light"
     },
     "output_type": "display_data"
    },
    {
     "name": "stdout",
     "output_type": "stream",
     "text": [
      "--------------------------------------\n",
      "Results for lambda=0.005\n",
      "The lowest validation error was found after 19 epochs.\n",
      "After 19 epochs the model has an accuracy of about 0.8778501749038696.\n"
     ]
    },
    {
     "data": {
      "image/png": "[encoded data removed]",
      "text/plain": [
       "<Figure size 432x288 with 1 Axes>"
      ]
     },
     "metadata": {
      "needs_background": "light"
     },
     "output_type": "display_data"
    },
    {
     "name": "stdout",
     "output_type": "stream",
     "text": [
      "--------------------------------------\n",
      "Results for lambda=0.0005\n",
      "The lowest validation error was found after 15 epochs.\n",
      "After 15 epochs the model has an accuracy of about 0.9521422982215881.\n"
     ]
    },
    {
     "data": {
      "image/png": "[encoded data removed]",
      "text/plain": [
       "<Figure size 432x288 with 1 Axes>"
      ]
     },
     "metadata": {
      "needs_background": "light"
     },
     "output_type": "display_data"
    },
    {
     "data": {
      "application/javascript": [
       "\n",
       "            setTimeout(function() {\n",
       "                var nbb_cell_id = 218;\n",
       "                var nbb_unformatted_code = \"optimal_epoch_arr = []\\n\\nfor i, results in enumerate(results_arr):\\n    print(\\\"--------------------------------------\\\")\\n    print(f\\\"Results for lambda={lambdas[i]}\\\")\\n\\n    val_loss = results.history[\\\"val_loss\\\"]\\n    optimal_epochs = np.argmin(val_loss)\\n    optimal_epoch_arr.append(optimal_epochs)\\n    print(f\\\"The lowest validation error was found after {optimal_epochs} epochs.\\\")\\n\\n    optimal_accuracy = results.history[\\\"accuracy\\\"][optimal_epochs]\\n    print(\\n        f\\\"After {np.argmin(val_loss)} epochs the model has an accuracy of about {optimal_accuracy}.\\\"\\n    )\\n\\n    plot_results(results)\";\n",
       "                var nbb_formatted_code = \"optimal_epoch_arr = []\\n\\nfor i, results in enumerate(results_arr):\\n    print(\\\"--------------------------------------\\\")\\n    print(f\\\"Results for lambda={lambdas[i]}\\\")\\n\\n    val_loss = results.history[\\\"val_loss\\\"]\\n    optimal_epochs = np.argmin(val_loss)\\n    optimal_epoch_arr.append(optimal_epochs)\\n    print(f\\\"The lowest validation error was found after {optimal_epochs} epochs.\\\")\\n\\n    optimal_accuracy = results.history[\\\"accuracy\\\"][optimal_epochs]\\n    print(\\n        f\\\"After {np.argmin(val_loss)} epochs the model has an accuracy of about {optimal_accuracy}.\\\"\\n    )\\n\\n    plot_results(results)\";\n",
       "                var nbb_cells = Jupyter.notebook.get_cells();\n",
       "                for (var i = 0; i < nbb_cells.length; ++i) {\n",
       "                    if (nbb_cells[i].input_prompt_number == nbb_cell_id) {\n",
       "                        if (nbb_cells[i].get_text() == nbb_unformatted_code) {\n",
       "                             nbb_cells[i].set_text(nbb_formatted_code);\n",
       "                        }\n",
       "                        break;\n",
       "                    }\n",
       "                }\n",
       "            }, 500);\n",
       "            "
      ],
      "text/plain": [
       "<IPython.core.display.Javascript object>"
      ]
     },
     "metadata": {},
     "output_type": "display_data"
    }
   ],
   "source": [
    "optimal_epoch_arr = []\n",
    "\n",
    "for i, results in enumerate(results_arr):\n",
    "    print(\"--------------------------------------\")\n",
    "    print(f\"Results for lambda={lambdas[i]}\")\n",
    "\n",
    "    val_loss = results.history[\"val_loss\"]\n",
    "    optimal_epochs = np.argmin(val_loss)\n",
    "    optimal_epoch_arr.append(optimal_epochs)\n",
    "    print(f\"The lowest validation error was found after {optimal_epochs} epochs.\")\n",
    "\n",
    "    optimal_accuracy = results.history[\"accuracy\"][optimal_epochs]\n",
    "    print(\n",
    "        f\"After {np.argmin(val_loss)} epochs the model has an accuracy of about {optimal_accuracy}.\"\n",
    "    )\n",
    "\n",
    "    plot_results(results)"
   ]
  },
  {
   "cell_type": "code",
   "execution_count": 219,
   "metadata": {},
   "outputs": [
    {
     "data": {
      "text/plain": [
       "[<matplotlib.lines.Line2D at 0x1b556b60d08>]"
      ]
     },
     "execution_count": 219,
     "metadata": {},
     "output_type": "execute_result"
    },
    {
     "data": {
      "image/png": "[encoded data removed]",
      "text/plain": [
       "<Figure size 432x288 with 1 Axes>"
      ]
     },
     "metadata": {
      "needs_background": "light"
     },
     "output_type": "display_data"
    },
    {
     "data": {
      "application/javascript": [
       "\n",
       "            setTimeout(function() {\n",
       "                var nbb_cell_id = 219;\n",
       "                var nbb_unformatted_code = \"plt.plot([\\\".001\\\", \\\".005\\\", \\\".0005\\\"], optimal_epoch_arr)\";\n",
       "                var nbb_formatted_code = \"plt.plot([\\\".001\\\", \\\".005\\\", \\\".0005\\\"], optimal_epoch_arr)\";\n",
       "                var nbb_cells = Jupyter.notebook.get_cells();\n",
       "                for (var i = 0; i < nbb_cells.length; ++i) {\n",
       "                    if (nbb_cells[i].input_prompt_number == nbb_cell_id) {\n",
       "                        if (nbb_cells[i].get_text() == nbb_unformatted_code) {\n",
       "                             nbb_cells[i].set_text(nbb_formatted_code);\n",
       "                        }\n",
       "                        break;\n",
       "                    }\n",
       "                }\n",
       "            }, 500);\n",
       "            "
      ],
      "text/plain": [
       "<IPython.core.display.Javascript object>"
      ]
     },
     "metadata": {},
     "output_type": "display_data"
    }
   ],
   "source": [
    "plt.plot([\".001\", \".005\", \".0005\"], optimal_epoch_arr)"
   ]
  },
  {
   "cell_type": "code",
   "execution_count": null,
   "metadata": {},
   "outputs": [],
   "source": []
  }
 ],
 "metadata": {
  "kernelspec": {
   "display_name": "Python 3",
   "language": "python",
   "name": "python3"
  },
  "language_info": {
   "codemirror_mode": {
    "name": "ipython",
    "version": 3
   },
   "file_extension": ".py",
   "mimetype": "text/x-python",
   "name": "python",
   "nbconvert_exporter": "python",
   "pygments_lexer": "ipython3",
   "version": "3.7.4"
  }
 },
 "nbformat": 4,
 "nbformat_minor": 2
}

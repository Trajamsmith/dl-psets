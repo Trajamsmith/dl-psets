{
 "cells": [
  {
   "cell_type": "markdown",
   "metadata": {},
   "source": [
    "### Assignment Week 7\n",
    "Travis James Smith"
   ]
  },
  {
   "cell_type": "markdown",
   "metadata": {},
   "source": [
    "# Problem 2\n",
    "This is mostly taken from the Apple stocks notebook, unsurprisingly. The changes are at the end. I trimmed it down as much as I could."
   ]
  },
  {
   "cell_type": "code",
   "execution_count": 25,
   "metadata": {},
   "outputs": [],
   "source": [
    "import numpy as np  \n",
    "import matplotlib.pyplot as plt  \n",
    "import pandas as pd  "
   ]
  },
  {
   "cell_type": "code",
   "execution_count": 26,
   "metadata": {},
   "outputs": [],
   "source": [
    "import tensorflow as tf\n",
    "from tensorflow.python.client import device_lib "
   ]
  },
  {
   "cell_type": "code",
   "execution_count": 27,
   "metadata": {},
   "outputs": [],
   "source": [
    "apple_training_complete = pd.read_csv(r'AAPL.csv')  "
   ]
  },
  {
   "cell_type": "code",
   "execution_count": 28,
   "metadata": {},
   "outputs": [],
   "source": [
    "apple_training_processed = apple_training_complete.iloc[:, 1:2].values  "
   ]
  },
  {
   "cell_type": "code",
   "execution_count": 29,
   "metadata": {},
   "outputs": [],
   "source": [
    "from sklearn.preprocessing import MinMaxScaler  \n",
    "scaler = MinMaxScaler(feature_range = (0, 1))\n",
    "\n",
    "apple_training_scaled = scaler.fit_transform(apple_training_processed)  \n"
   ]
  },
  {
   "cell_type": "code",
   "execution_count": 30,
   "metadata": {},
   "outputs": [],
   "source": [
    "features_set = []  \n",
    "labels = []  \n",
    "for i in range(60, 1250):  \n",
    "    features_set.append(apple_training_scaled[i-60:i, 0])\n",
    "    labels.append(apple_training_scaled[i, 0])\n"
   ]
  },
  {
   "cell_type": "code",
   "execution_count": 31,
   "metadata": {},
   "outputs": [],
   "source": [
    "features_set, labels = np.array(features_set), np.array(labels)  "
   ]
  },
  {
   "cell_type": "code",
   "execution_count": 32,
   "metadata": {},
   "outputs": [],
   "source": [
    "features_set = np.reshape(features_set, (features_set.shape[0], features_set.shape[1], 1))  "
   ]
  },
  {
   "cell_type": "code",
   "execution_count": 33,
   "metadata": {},
   "outputs": [],
   "source": [
    "import tensorflow as tf\n",
    "from tensorflow import keras\n",
    "from tensorflow.keras.models import Sequential  \n",
    "from tensorflow.keras.layers import Dense  \n",
    "from tensorflow.keras.layers import LSTM  \n",
    "from tensorflow.keras.layers import Dropout  \n"
   ]
  },
  {
   "cell_type": "code",
   "execution_count": 34,
   "metadata": {},
   "outputs": [],
   "source": [
    "model = Sequential()  \n",
    "model.add(LSTM(units=50, return_sequences=True, input_shape=(features_set.shape[1], 1),unroll=False))  "
   ]
  },
  {
   "cell_type": "code",
   "execution_count": 35,
   "metadata": {},
   "outputs": [],
   "source": [
    "model.add(Dropout(0.2))  "
   ]
  },
  {
   "cell_type": "code",
   "execution_count": 36,
   "metadata": {},
   "outputs": [],
   "source": [
    "model.add(LSTM(units=50, return_sequences=True))  \n",
    "model.add(Dropout(0.2))\n",
    "\n",
    "model.add(LSTM(units=50, return_sequences=True))  \n",
    "model.add(Dropout(0.2))\n",
    "\n",
    "model.add(LSTM(units=50))  \n",
    "model.add(Dropout(0.2))  \n"
   ]
  },
  {
   "cell_type": "code",
   "execution_count": 37,
   "metadata": {},
   "outputs": [],
   "source": [
    "model.add(Dense(units = 1))  "
   ]
  },
  {
   "cell_type": "code",
   "execution_count": 38,
   "metadata": {},
   "outputs": [],
   "source": [
    "model.compile(optimizer = 'adam', loss = 'mean_squared_error')  "
   ]
  },
  {
   "cell_type": "code",
   "execution_count": 39,
   "metadata": {},
   "outputs": [],
   "source": [
    "history = model.fit(features_set, labels, epochs = 100, batch_size = 32, verbose=0)  "
   ]
  },
  {
   "cell_type": "code",
   "execution_count": 40,
   "metadata": {},
   "outputs": [
    {
     "data": {
      "text/plain": [
       "dict_keys(['loss'])"
      ]
     },
     "execution_count": 40,
     "metadata": {},
     "output_type": "execute_result"
    }
   ],
   "source": [
    "from tensorflow.keras.models import load_model\n",
    "model.save('apple.h5')\n",
    "#model = load_model('apple.h5')\n",
    "history_dict = history.history\n",
    "history_dict.keys()"
   ]
  },
  {
   "cell_type": "code",
   "execution_count": 41,
   "metadata": {},
   "outputs": [
    {
     "data": {
      "image/png": "[encoded data removed]",
      "text/plain": [
       "<Figure size 432x288 with 1 Axes>"
      ]
     },
     "metadata": {
      "needs_background": "light"
     },
     "output_type": "display_data"
    }
   ],
   "source": [
    "import matplotlib.pyplot as plt\n",
    "\n",
    "loss = history.history['loss']\n",
    "\n",
    "epochs = range(1, len(loss) + 1)\n",
    "\n",
    "# \"bo\" is for \"blue dot\"\n",
    "plt.plot(epochs, loss, 'bo', label='Training loss')\n",
    "\n",
    "plt.title('Training loss')\n",
    "plt.xlabel('Epochs')\n",
    "plt.ylabel('Loss')\n",
    "plt.legend()\n",
    "\n",
    "plt.show()\n"
   ]
  },
  {
   "cell_type": "markdown",
   "metadata": {},
   "source": [
    "## Predicting a week in advance\n",
    "So now we want to predict a week in advance. We're using data from Yahoo finance between January and the end of March 2020, so we want to predict the open price for the first few days of April.\n"
   ]
  },
  {
   "cell_type": "code",
   "execution_count": 42,
   "metadata": {},
   "outputs": [
    {
     "name": "stdout",
     "output_type": "stream",
     "text": [
      "          Date        Open        High         Low       Close   Adj Close  \\\n",
      "0   2019-12-02  267.269989  268.250000  263.450012  264.160004  263.534546   \n",
      "1   2019-12-03  258.309998  259.529999  256.290009  259.450012  258.835724   \n",
      "2   2019-12-04  261.070007  263.309998  260.679993  261.739990  261.120270   \n",
      "3   2019-12-05  263.790009  265.890015  262.730011  265.579987  264.951172   \n",
      "4   2019-12-06  267.480011  271.000000  267.299988  270.709991  270.069031   \n",
      "..         ...         ...         ...         ...         ...         ...   \n",
      "75  2020-03-20  247.179993  251.830002  228.000000  229.240005  229.240005   \n",
      "76  2020-03-23  228.080002  228.500000  212.610001  224.369995  224.369995   \n",
      "77  2020-03-24  236.360001  247.690002  234.300003  246.880005  246.880005   \n",
      "78  2020-03-25  250.750000  258.250000  244.300003  245.520004  245.520004   \n",
      "79  2020-03-26  246.520004  258.679993  246.360001  258.440002  258.440002   \n",
      "\n",
      "       Volume  \n",
      "0    23621800  \n",
      "1    28607600  \n",
      "2    16795400  \n",
      "3    18606100  \n",
      "4    26518900  \n",
      "..        ...  \n",
      "75  100423300  \n",
      "76   84188200  \n",
      "77   71882800  \n",
      "78   75900500  \n",
      "79   63021800  \n",
      "\n",
      "[80 rows x 7 columns]\n",
      "Number of data points in March:  80\n"
     ]
    }
   ],
   "source": [
    "apple_testing_complete = pd.read_csv(r'AAPL_recent.csv')  \n",
    "print(apple_testing_complete)\n",
    "apple_testing_processed = apple_testing_complete.iloc[:, 1:2].values  \n",
    "apple_testing_processed\n",
    "print(\"Number of data points in March: \", apple_testing_processed.size)"
   ]
  },
  {
   "cell_type": "markdown",
   "metadata": {},
   "source": [
    "## Converting Test Data to Right Format\n"
   ]
  },
  {
   "cell_type": "code",
   "execution_count": 43,
   "metadata": {},
   "outputs": [
    {
     "name": "stdout",
     "output_type": "stream",
     "text": [
      "(80, 1)\n"
     ]
    }
   ],
   "source": [
    "test_inputs = apple_testing_processed.reshape(-1,1)  \n",
    "test_inputs = scaler.transform(test_inputs)  \n",
    "print(test_inputs.shape)"
   ]
  },
  {
   "cell_type": "code",
   "execution_count": 44,
   "metadata": {},
   "outputs": [
    {
     "data": {
      "text/plain": [
       "20"
      ]
     },
     "execution_count": 44,
     "metadata": {},
     "output_type": "execute_result"
    }
   ],
   "source": [
    "test_features = []  \n",
    "for i in range(60, 80):  \n",
    "    test_features.append(test_inputs[i-60:i, 0])\n",
    "\n",
    "len(test_features)"
   ]
  },
  {
   "cell_type": "code",
   "execution_count": 45,
   "metadata": {},
   "outputs": [
    {
     "name": "stdout",
     "output_type": "stream",
     "text": [
      "[[0.78660732 0.75333784 0.76358607 ... 0.91166509 0.85812193 0.83795975]\n",
      " [0.75333784 0.76358607 0.77368575 ... 0.85812193 0.83795975 0.74943912]\n",
      " [0.76358607 0.77368575 0.78738715 ... 0.83795975 0.74943912 0.8423412 ]\n",
      " ...\n",
      " [0.85177254 0.87516511 0.86900133 ... 0.71279064 0.71201086 0.64109041]\n",
      " [0.87516511 0.86900133 0.8707465  ... 0.71201086 0.64109041 0.671835  ]\n",
      " [0.86900133 0.8707465  0.89417624 ... 0.64109041 0.671835   0.72526671]]\n"
     ]
    }
   ],
   "source": [
    "test_features = np.array(test_features)  \n",
    "print(test_features)"
   ]
  },
  {
   "cell_type": "markdown",
   "metadata": {},
   "source": [
    "## Making the predictions\n",
    "So, to calculate five days in advance, we're just predicting each day in succession and prepending the previous prediction to the input array for the next prediction.\n"
   ]
  },
  {
   "cell_type": "code",
   "execution_count": 46,
   "metadata": {},
   "outputs": [
    {
     "name": "stdout",
     "output_type": "stream",
     "text": [
      "[0.70515811 0.70287335 0.711164   0.71803677 0.7195282 ]\n"
     ]
    }
   ],
   "source": [
    "next_day_input = np.reshape(test_features[-1], (1, 60, 1))  \n",
    "\n",
    "predictions = np.zeros(5)\n",
    "for i in range(5):\n",
    "    prediction = model.predict(next_day_input) \n",
    "    predictions[i] = prediction\n",
    "    next_day_input = np.insert(next_day_input[:,0:59,:], 0, prediction, axis=1)\n",
    "    \n",
    "print(predictions)"
   ]
  },
  {
   "cell_type": "code",
   "execution_count": 47,
   "metadata": {},
   "outputs": [
    {
     "name": "stdout",
     "output_type": "stream",
     "text": [
      "[[245.33444002]\n",
      " [244.71911686]\n",
      " [246.95191869]\n",
      " [248.80286443]\n",
      " [249.20452926]]\n"
     ]
    }
   ],
   "source": [
    "predictions = scaler.inverse_transform(np.reshape(predictions, (len(predictions), 1)))  \n",
    "print(predictions)"
   ]
  },
  {
   "cell_type": "code",
   "execution_count": 48,
   "metadata": {},
   "outputs": [
    {
     "data": {
      "image/png": "[encoded data removed]",
      "text/plain": [
       "<Figure size 720x432 with 1 Axes>"
      ]
     },
     "metadata": {
      "needs_background": "light"
     },
     "output_type": "display_data"
    }
   ],
   "source": [
    "actual_prices = [252.75, 250.74, 255.60, 246.50, 240.34]\n",
    "\n",
    "plt.figure(figsize=(10,6)) \n",
    "plt.plot(range(0, len(apple_testing_processed)), apple_testing_processed)\n",
    "plt.plot(range(len(apple_testing_processed), len(apple_testing_processed)+5), predictions, color=\"orange\")\n",
    "plt.plot(range(len(apple_testing_processed), len(apple_testing_processed)+5), actual_prices, color=\"green\")\n",
    "plt.show()  \n"
   ]
  },
  {
   "cell_type": "markdown",
   "metadata": {},
   "source": [
    "So, this actually looks pretty reasonable. But, when compared to the actual prices (in green, added manually), the model hasn't really done that well."
   ]
  }
 ],
 "metadata": {
  "kernelspec": {
   "display_name": "Python 3",
   "language": "python",
   "name": "python3"
  },
  "language_info": {
   "codemirror_mode": {
    "name": "ipython",
    "version": 3
   },
   "file_extension": ".py",
   "mimetype": "text/x-python",
   "name": "python",
   "nbconvert_exporter": "python",
   "pygments_lexer": "ipython3",
   "version": "3.7.4"
  }
 },
 "nbformat": 4,
 "nbformat_minor": 4
}

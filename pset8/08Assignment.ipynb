{
 "cells": [
  {
   "cell_type": "markdown",
   "metadata": {},
   "source": [
    "### Travis James Smith"
   ]
  },
  {
   "cell_type": "markdown",
   "metadata": {},
   "source": [
    "## Problem 1\n",
    "Using code from lecture:"
   ]
  },
  {
   "cell_type": "code",
   "execution_count": 201,
   "metadata": {},
   "outputs": [],
   "source": [
    "%matplotlib inline\n",
    "import numpy as np\n",
    "import torch\n",
    "torch.set_printoptions(edgeitems=2)\n",
    "\n",
    "t_c = [0.5, 14.0, 15.0, 28.0, 11.0, 8.0, 3.0, -4.0, 6.0, 13.0, 21.0]\n",
    "t_f = [35.7, 55.9, 58.2, 81.9, 56.3, 48.9, 33.9, 21.8, 48.4, 60.4, 68.4]\n",
    "t_c = torch.tensor(t_c)\n",
    "t_f = torch.tensor(t_f)"
   ]
  },
  {
   "cell_type": "markdown",
   "metadata": {},
   "source": [
    "Defining the model and the loss functions. Our model is linear in one dimension, so we have just two parameters (a single weight and a bias)."
   ]
  },
  {
   "cell_type": "code",
   "execution_count": 202,
   "metadata": {},
   "outputs": [],
   "source": [
    "def model(t_f, w, b):\n",
    "    return w * t_f + b\n",
    "\n",
    "def loss_fn(t_p, t_c):\n",
    "    squared_diffs = (t_p - t_c)**2\n",
    "    return squared_diffs.mean()"
   ]
  },
  {
   "cell_type": "code",
   "execution_count": 203,
   "metadata": {},
   "outputs": [
    {
     "data": {
      "text/plain": [
       "tensor([35.7000, 55.9000, 58.2000, 81.9000, 56.3000, 48.9000, 33.9000, 21.8000,\n",
       "        48.4000, 60.4000, 68.4000])"
      ]
     },
     "execution_count": 203,
     "metadata": {},
     "output_type": "execute_result"
    }
   ],
   "source": [
    "w = torch.ones(1)\n",
    "b = torch.zeros(1)\n",
    "\n",
    "t_p = model(t_f, w, b)\n",
    "t_p"
   ]
  },
  {
   "cell_type": "code",
   "execution_count": 204,
   "metadata": {},
   "outputs": [
    {
     "name": "stdout",
     "output_type": "stream",
     "text": [
      "tensor(1763.8846)\n"
     ]
    }
   ],
   "source": [
    "loss = loss_fn(t_p, t_c)\n",
    "print(loss)"
   ]
  },
  {
   "cell_type": "markdown",
   "metadata": {},
   "source": [
    "Now we need functions to calculate the partial derivates needed for backpropagation:"
   ]
  },
  {
   "cell_type": "code",
   "execution_count": 205,
   "metadata": {},
   "outputs": [],
   "source": [
    "def dloss_fn(t_p, t_c):\n",
    "    dsq_diffs = 2 * (t_p - t_c)\n",
    "    return dsq_diffs\n",
    "\n",
    "def dmodel_db(t_f, w, b):\n",
    "    return 1.0\n",
    "\n",
    "def dmodel_dw(t_f, w, b):\n",
    "    return t_f\n",
    "\n",
    "def grad_fn(t_f, t_c, t_p, w, b):\n",
    "    dloss_dw = dloss_fn(t_p, t_c) * dmodel_dw(t_f, w, b)\n",
    "    dloss_db = dloss_fn(t_p, t_c) * dmodel_db(t_f, w, b)\n",
    "    return torch.stack([dloss_dw.mean(), dloss_db.mean()])"
   ]
  },
  {
   "cell_type": "markdown",
   "metadata": {},
   "source": [
    "And now the training loop, the main component in our parameter learning script:"
   ]
  },
  {
   "cell_type": "code",
   "execution_count": 206,
   "metadata": {},
   "outputs": [],
   "source": [
    "def training_loop(n_epochs, learning_rate, params, t_f, t_c, print_params=True):\n",
    "    for epoch in range(1, n_epochs + 1):\n",
    "        w, b = params\n",
    "        \n",
    "        t_p = model(t_f, w, b) # this is forward pass\n",
    "        loss = loss_fn(t_p, t_c)\n",
    "        grad = grad_fn(t_f, t_c, t_p, w, b) # backward pass\n",
    "        \n",
    "        params = params - learning_rate * grad\n",
    "        \n",
    "        if epoch in {1, 2, 3, 10, 11, 99, 100, 4000, 5000}: # <3>\n",
    "            print('Epoch %d, Loss %f' % (epoch, float(loss)))\n",
    "            if print_params:\n",
    "                print(' Params:', params)\n",
    "                print(' Grad: ', grad)\n",
    "            \n",
    "        if epoch in {4, 12, 101}:\n",
    "            print('...')\n",
    "            \n",
    "        if not torch.isfinite(loss).all():\n",
    "            break # <3>\n",
    "            \n",
    "    return params"
   ]
  },
  {
   "cell_type": "markdown",
   "metadata": {},
   "source": [
    "We run the model below:"
   ]
  },
  {
   "cell_type": "code",
   "execution_count": 207,
   "metadata": {},
   "outputs": [
    {
     "name": "stdout",
     "output_type": "stream",
     "text": [
      "Epoch 1, Loss 80.364342\n",
      "Epoch 2, Loss 79.752480\n",
      "Epoch 3, Loss 79.148026\n",
      "...\n",
      "Epoch 10, Loss 75.116219\n",
      "Epoch 11, Loss 74.567734\n",
      "...\n",
      "Epoch 99, Loss 45.087246\n",
      "Epoch 100, Loss 44.900906\n",
      "...\n",
      "Epoch 4000, Loss 26.422493\n",
      "Epoch 5000, Loss 25.637672\n"
     ]
    },
    {
     "data": {
      "text/plain": [
       "tensor([  4.8012, -14.0978])"
      ]
     },
     "execution_count": 207,
     "metadata": {},
     "output_type": "execute_result"
    }
   ],
   "source": [
    "t_fn = 0.1 * t_f\n",
    "\n",
    "params = training_loop(\n",
    "    n_epochs = 100000,\n",
    "    learning_rate = 1e-4,\n",
    "    params = torch.tensor([1.0, 0.0]),\n",
    "    t_f = t_fn,\n",
    "    t_c = t_c,\n",
    "    print_params = False)\n",
    "params"
   ]
  },
  {
   "cell_type": "code",
   "execution_count": 208,
   "metadata": {},
   "outputs": [
    {
     "data": {
      "text/plain": [
       "[<matplotlib.lines.Line2D at 0x1d51d247108>]"
      ]
     },
     "execution_count": 208,
     "metadata": {},
     "output_type": "execute_result"
    },
    {
     "data": {
      "image/png": "[encoded data removed]",
      "text/plain": [
       "<Figure size 432x288 with 1 Axes>"
      ]
     },
     "metadata": {
      "needs_background": "light"
     },
     "output_type": "display_data"
    }
   ],
   "source": [
    "from matplotlib import pyplot as plt\n",
    "\n",
    "t_p = model(t_fn, *params) # <1>\n",
    "\n",
    "plt.plot(0.1 * t_f.numpy(), t_p.numpy())\n",
    "plt.plot(0.1 * t_f.numpy(), t_c.numpy(), 'o')"
   ]
  },
  {
   "cell_type": "markdown",
   "metadata": {},
   "source": [
    "With 100,000 epochs of our basic gradient descent, we have a pretty nice-looking linear regression."
   ]
  },
  {
   "cell_type": "markdown",
   "metadata": {},
   "source": [
    "## Problem 2\n",
    "Now we can use PyTorch's autograd. Code again borrowed from lecture:"
   ]
  },
  {
   "cell_type": "code",
   "execution_count": 209,
   "metadata": {},
   "outputs": [],
   "source": [
    "def training_loop(n_epochs, learning_rate, params, t_f, t_c):\n",
    "    for epoch in range(1, n_epochs + 1):\n",
    "        if params.grad is not None: # Done at any point in the loop\n",
    "            params.grad.zero_() # before a call to loss.backward()\n",
    "            \n",
    "        t_p = model(t_f, *params)\n",
    "        loss = loss_fn(t_p, t_c)\n",
    "        loss.backward()\n",
    "        params = (params - learning_rate * params.grad).detach().requires_grad_()\n",
    "        \n",
    "        if epoch % 10000 == 0:\n",
    "            print('Epoch %d, Loss %f' % (epoch, float(loss)))\n",
    "    return params"
   ]
  },
  {
   "cell_type": "code",
   "execution_count": 210,
   "metadata": {},
   "outputs": [
    {
     "name": "stdout",
     "output_type": "stream",
     "text": [
      "Epoch 10000, Loss 22.089724\n",
      "Epoch 20000, Loss 16.570116\n",
      "Epoch 30000, Loss 12.640473\n",
      "Epoch 40000, Loss 9.842770\n",
      "Epoch 50000, Loss 7.850929\n",
      "Epoch 60000, Loss 6.432972\n",
      "Epoch 70000, Loss 5.423423\n",
      "Epoch 80000, Loss 4.704628\n",
      "Epoch 90000, Loss 4.192858\n",
      "Epoch 100000, Loss 3.828507\n"
     ]
    },
    {
     "data": {
      "text/plain": [
       "tensor([  4.8012, -14.0978], requires_grad=True)"
      ]
     },
     "execution_count": 210,
     "metadata": {},
     "output_type": "execute_result"
    }
   ],
   "source": [
    "params = training_loop(\n",
    "    n_epochs = 100000,\n",
    "    learning_rate = 1e-4,\n",
    "    params = torch.tensor([1.0, 0.0], requires_grad=True),\n",
    "    t_f = t_fn,\n",
    "    t_c = t_c)\n",
    "params"
   ]
  },
  {
   "cell_type": "code",
   "execution_count": 211,
   "metadata": {},
   "outputs": [
    {
     "data": {
      "text/plain": [
       "[<matplotlib.lines.Line2D at 0x1d51d2c0908>]"
      ]
     },
     "execution_count": 211,
     "metadata": {},
     "output_type": "execute_result"
    },
    {
     "data": {
      "image/png": "[encoded data removed]",
      "text/plain": [
       "<Figure size 432x288 with 1 Axes>"
      ]
     },
     "metadata": {
      "needs_background": "light"
     },
     "output_type": "display_data"
    }
   ],
   "source": [
    "t_p = model(t_fn, *params) # <1>\n",
    "\n",
    "plt.plot(0.1 * t_f.detach().numpy(), t_p.detach().numpy())\n",
    "plt.plot(0.1 * t_f.detach().numpy(), t_c.detach().numpy(), 'o')"
   ]
  },
  {
   "cell_type": "markdown",
   "metadata": {},
   "source": [
    "We got the exact same parameters with PyTorch's autograd as we did with our handwritten gradient descent."
   ]
  },
  {
   "cell_type": "markdown",
   "metadata": {},
   "source": [
    "## Problem 3\n",
    "Now we'll use PyTorch's optimized autograd methods, which should perform better than our unoptimized algorithm:"
   ]
  },
  {
   "cell_type": "code",
   "execution_count": 212,
   "metadata": {},
   "outputs": [],
   "source": [
    "import torch.optim as optim"
   ]
  },
  {
   "cell_type": "code",
   "execution_count": 213,
   "metadata": {},
   "outputs": [],
   "source": [
    "def training_loop(n_epochs, optimizer, params, t_f, t_c):\n",
    "    for epoch in range(1, n_epochs + 1):\n",
    "        t_p = model(t_f, *params)\n",
    "        loss = loss_fn(t_p, t_c)\n",
    "        \n",
    "        optimizer.zero_grad()\n",
    "        loss.backward()\n",
    "        optimizer.step()\n",
    "        \n",
    "        if epoch % 500 == 0:\n",
    "            print('Epoch %d, Loss %f' % (epoch, float(loss)))\n",
    "    return params"
   ]
  },
  {
   "cell_type": "markdown",
   "metadata": {},
   "source": [
    "### Using stochastic gradient descent (SGD):"
   ]
  },
  {
   "cell_type": "code",
   "execution_count": 214,
   "metadata": {},
   "outputs": [
    {
     "name": "stdout",
     "output_type": "stream",
     "text": [
      "Epoch 500, Loss 7.860116\n",
      "Epoch 1000, Loss 3.828538\n",
      "Epoch 1500, Loss 3.092191\n",
      "Epoch 2000, Loss 2.957697\n"
     ]
    },
    {
     "data": {
      "text/plain": [
       "tensor([  5.2644, -16.7200], requires_grad=True)"
      ]
     },
     "execution_count": 214,
     "metadata": {},
     "output_type": "execute_result"
    }
   ],
   "source": [
    "params = torch.tensor([1.0, 0.0], requires_grad=True)\n",
    "learning_rate = 1e-2\n",
    "optimizer = optim.SGD([params], lr=learning_rate)\n",
    "\n",
    "training_loop(\n",
    "    n_epochs = 2000,\n",
    "    optimizer = optimizer,\n",
    "    params = params,\n",
    "    t_f = t_fn,\n",
    "    t_c = t_c)"
   ]
  },
  {
   "cell_type": "code",
   "execution_count": 215,
   "metadata": {},
   "outputs": [
    {
     "data": {
      "text/plain": [
       "[<matplotlib.lines.Line2D at 0x1d51d326cc8>]"
      ]
     },
     "execution_count": 215,
     "metadata": {},
     "output_type": "execute_result"
    },
    {
     "data": {
      "image/png": "[encoded data removed]",
      "text/plain": [
       "<Figure size 432x288 with 1 Axes>"
      ]
     },
     "metadata": {
      "needs_background": "light"
     },
     "output_type": "display_data"
    }
   ],
   "source": [
    "t_p = model(t_fn, *params) # <1>\n",
    "\n",
    "plt.plot(0.1 * t_f.detach().numpy(), t_p.detach().numpy())\n",
    "plt.plot(0.1 * t_f.detach().numpy(), t_c.detach().numpy(), 'o')"
   ]
  },
  {
   "cell_type": "markdown",
   "metadata": {},
   "source": [
    "### Using Adam:"
   ]
  },
  {
   "cell_type": "code",
   "execution_count": 216,
   "metadata": {},
   "outputs": [
    {
     "name": "stdout",
     "output_type": "stream",
     "text": [
      "Epoch 500, Loss 2.962301\n",
      "Epoch 1000, Loss 2.927645\n",
      "Epoch 1500, Loss 2.927646\n",
      "Epoch 2000, Loss 2.927646\n"
     ]
    },
    {
     "data": {
      "text/plain": [
       "tensor([  5.3677, -17.3048], requires_grad=True)"
      ]
     },
     "execution_count": 216,
     "metadata": {},
     "output_type": "execute_result"
    }
   ],
   "source": [
    "params = torch.tensor([1.0, 0.0], requires_grad=True)\n",
    "learning_rate = 1e-1\n",
    "optimizer = optim.Adam([params], lr=learning_rate)\n",
    "\n",
    "training_loop(\n",
    "    n_epochs = 2000,\n",
    "    optimizer = optimizer,\n",
    "    params = params,\n",
    "    t_f = t_fn,\n",
    "    t_c = t_c)"
   ]
  },
  {
   "cell_type": "code",
   "execution_count": 217,
   "metadata": {},
   "outputs": [
    {
     "data": {
      "text/plain": [
       "[<matplotlib.lines.Line2D at 0x1d51d3bf448>]"
      ]
     },
     "execution_count": 217,
     "metadata": {},
     "output_type": "execute_result"
    },
    {
     "data": {
      "image/png": "[encoded data removed]",
      "text/plain": [
       "<Figure size 432x288 with 1 Axes>"
      ]
     },
     "metadata": {
      "needs_background": "light"
     },
     "output_type": "display_data"
    }
   ],
   "source": [
    "t_p = model(t_fn, *params) # <1>\n",
    "\n",
    "plt.plot(0.1 * t_f.detach().numpy(), t_p.detach().numpy())\n",
    "plt.plot(0.1 * t_f.detach().numpy(), t_c.detach().numpy(), 'o')"
   ]
  },
  {
   "cell_type": "markdown",
   "metadata": {},
   "source": [
    "Both of these optimized gradient descent algorithms performed better in 2,000 epochs than our unoptimized algorithms did in 100,000 epochs. That's a pretty profound difference. \n",
    "\n",
    "Adam performed slightly better than vanilla SGD when given a smaller initial learning rate, which is to be expected (since it's an optimized SGD)."
   ]
  },
  {
   "cell_type": "markdown",
   "metadata": {},
   "source": [
    "## Problem 4\n",
    "Now we can try splitting our tiny dataset into training and validation subsets:"
   ]
  },
  {
   "cell_type": "code",
   "execution_count": 267,
   "metadata": {},
   "outputs": [
    {
     "name": "stdout",
     "output_type": "stream",
     "text": [
      "tensor([ 2, 10,  5,  0,  7,  8,  1,  4]) tensor([9, 3, 6])\n"
     ]
    }
   ],
   "source": [
    "n_samples = t_f.shape[0]\n",
    "n_val = int(0.3 * n_samples) # 30% of data for the validation set\n",
    "\n",
    "shuffled_indices = torch.randperm(n_samples)\n",
    "train_indices = shuffled_indices[:-n_val]\n",
    "val_indices = shuffled_indices[-n_val:]\n",
    "\n",
    "print(train_indices, val_indices)"
   ]
  },
  {
   "cell_type": "markdown",
   "metadata": {},
   "source": [
    "We should get random sets of indices with each run of the above cell. We still need to normalize our data points, which we do below:"
   ]
  },
  {
   "cell_type": "code",
   "execution_count": 268,
   "metadata": {},
   "outputs": [],
   "source": [
    "train_t_f = t_f[train_indices]\n",
    "train_t_c = t_c[train_indices]\n",
    "val_t_f = t_f[val_indices]\n",
    "val_t_c = t_c[val_indices]\n",
    "\n",
    "train_t_fn = 0.1 * train_t_f\n",
    "val_t_fn = 0.1 * val_t_f"
   ]
  },
  {
   "cell_type": "code",
   "execution_count": 269,
   "metadata": {},
   "outputs": [],
   "source": [
    "class History:\n",
    "    def __init__(self):\n",
    "        self.train_loss = np.zeros(3000)\n",
    "        self.val_loss = np.zeros(3000)"
   ]
  },
  {
   "cell_type": "code",
   "execution_count": 270,
   "metadata": {},
   "outputs": [],
   "source": [
    "def training_loop(n_epochs, optimizer, params, train_t_f, val_t_f, train_t_c, val_t_c):\n",
    "    history = History()\n",
    "    \n",
    "    for epoch in range(1, n_epochs + 1):\n",
    "        train_t_p = model(train_t_f, *params) # passing model\n",
    "        train_loss = loss_fn(train_t_p, train_t_c)\n",
    "        history.train_loss[epoch - 1] = train_loss\n",
    "        \n",
    "        val_t_p = model(val_t_f, *params) # <1>\n",
    "        val_loss = loss_fn(val_t_p, val_t_c)\n",
    "        history.val_loss[epoch - 1] = val_loss\n",
    "        \n",
    "        optimizer.zero_grad()\n",
    "        train_loss.backward() # The loss function is also passed in\n",
    "        optimizer.step()\n",
    "        \n",
    "        if epoch <= 3 or epoch % 500 == 0:\n",
    "            print('Epoch {}, Training loss {}, Validation loss {}'.format(epoch, float(train_loss), float(val_loss)))\n",
    "    return params, history"
   ]
  },
  {
   "cell_type": "code",
   "execution_count": 271,
   "metadata": {},
   "outputs": [
    {
     "name": "stdout",
     "output_type": "stream",
     "text": [
      "Epoch 1, Training loss 55.37225341796875, Validation loss 147.00991821289062\n",
      "Epoch 2, Training loss 32.00364303588867, Validation loss 82.40554809570312\n",
      "Epoch 3, Training loss 27.003137588500977, Validation loss 61.030216217041016\n",
      "Epoch 500, Training loss 8.540688514709473, Validation loss 13.505252838134766\n",
      "Epoch 1000, Training loss 4.141602993011475, Validation loss 5.5711894035339355\n",
      "Epoch 1500, Training loss 3.0246410369873047, Validation loss 3.909045457839966\n",
      "Epoch 2000, Training loss 2.741036891937256, Validation loss 3.6645686626434326\n",
      "Epoch 2500, Training loss 2.669029712677002, Validation loss 3.691962480545044\n",
      "Epoch 3000, Training loss 2.650742530822754, Validation loss 3.7440061569213867\n"
     ]
    },
    {
     "data": {
      "text/plain": [
       "tensor([  5.3931, -17.5764], requires_grad=True)"
      ]
     },
     "execution_count": 271,
     "metadata": {},
     "output_type": "execute_result"
    }
   ],
   "source": [
    "params = torch.tensor([1.0, 0.0], requires_grad=True)\n",
    "learning_rate = 1e-2\n",
    "optimizer = optim.SGD([params], lr=learning_rate)\n",
    "\n",
    "params, history = training_loop(\n",
    "    n_epochs = 3000,\n",
    "    optimizer = optimizer,\n",
    "    params = params,\n",
    "    train_t_f = train_t_fn,\n",
    "    val_t_f = val_t_fn,\n",
    "    train_t_c = train_t_c,\n",
    "    val_t_c = val_t_c)\n",
    "params"
   ]
  },
  {
   "cell_type": "code",
   "execution_count": 272,
   "metadata": {},
   "outputs": [
    {
     "data": {
      "text/plain": [
       "[<matplotlib.lines.Line2D at 0x1d51ea1b088>]"
      ]
     },
     "execution_count": 272,
     "metadata": {},
     "output_type": "execute_result"
    },
    {
     "data": {
      "image/png": "[encoded data removed]",
      "text/plain": [
       "<Figure size 432x288 with 1 Axes>"
      ]
     },
     "metadata": {
      "needs_background": "light"
     },
     "output_type": "display_data"
    }
   ],
   "source": [
    "t_p = model(t_fn, *params) # <1>\n",
    "\n",
    "plt.plot(0.1 * t_f.detach().numpy(), t_p.detach().numpy())\n",
    "plt.plot(0.1 * t_f.detach().numpy(), t_c.detach().numpy(), 'o')"
   ]
  },
  {
   "cell_type": "markdown",
   "metadata": {},
   "source": [
    "Let's plot the training and validation losses across epochs:"
   ]
  },
  {
   "cell_type": "code",
   "execution_count": 273,
   "metadata": {},
   "outputs": [
    {
     "data": {
      "text/plain": [
       "<matplotlib.legend.Legend at 0x1d51eaa8d08>"
      ]
     },
     "execution_count": 273,
     "metadata": {},
     "output_type": "execute_result"
    },
    {
     "data": {
      "image/png": "[encoded data removed]",
      "text/plain": [
       "<Figure size 432x288 with 1 Axes>"
      ]
     },
     "metadata": {
      "needs_background": "light"
     },
     "output_type": "display_data"
    }
   ],
   "source": [
    "plt.plot(history.train_loss, label=\"Train Loss\")\n",
    "plt.plot(history.val_loss, label=\"Val Loss\")\n",
    "plt.legend()"
   ]
  },
  {
   "cell_type": "markdown",
   "metadata": {},
   "source": [
    "It's hard to see, and our dataset is so small that it's almost trivial, but the validation loss starts to increase around epoch 2,500. This would suggest slight overfitting."
   ]
  },
  {
   "cell_type": "code",
   "execution_count": null,
   "metadata": {},
   "outputs": [],
   "source": []
  }
 ],
 "metadata": {
  "kernelspec": {
   "display_name": "Python 3",
   "language": "python",
   "name": "python3"
  },
  "language_info": {
   "codemirror_mode": {
    "name": "ipython",
    "version": 3
   },
   "file_extension": ".py",
   "mimetype": "text/x-python",
   "name": "python",
   "nbconvert_exporter": "python",
   "pygments_lexer": "ipython3",
   "version": "3.7.4"
  }
 },
 "nbformat": 4,
 "nbformat_minor": 4
}
